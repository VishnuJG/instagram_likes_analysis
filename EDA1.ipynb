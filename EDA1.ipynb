{
 "cells": [
  {
   "cell_type": "code",
   "execution_count": 1,
   "id": "b9970fdb",
   "metadata": {
    "_cell_guid": "b1076dfc-b9ad-4769-8c92-a6c4dae69d19",
    "_uuid": "8f2839f25d086af736a60e9eeb907d3b93b6e0e5",
    "execution": {
     "iopub.execute_input": "2021-10-17T05:43:18.592271Z",
     "iopub.status.busy": "2021-10-17T05:43:18.591019Z",
     "iopub.status.idle": "2021-10-17T05:43:18.611406Z",
     "shell.execute_reply": "2021-10-17T05:43:18.612047Z",
     "shell.execute_reply.started": "2021-10-17T05:20:08.464674Z"
    },
    "papermill": {
     "duration": 0.04665,
     "end_time": "2021-10-17T05:43:18.612373",
     "exception": false,
     "start_time": "2021-10-17T05:43:18.565723",
     "status": "completed"
    },
    "tags": []
   },
   "outputs": [
    {
     "name": "stdout",
     "output_type": "stream",
     "text": [
      "/kaggle/input/1100-instagram-users-datetime-posts-data/Instagram_Data.csv\n"
     ]
    }
   ],
   "source": [
    "# This Python 3 environment comes with many helpful analytics libraries installed\n",
    "# It is defined by the kaggle/python Docker image: https://github.com/kaggle/docker-python\n",
    "# For example, here's several helpful packages to load\n",
    "\n",
    "import numpy as np # linear algebra\n",
    "import pandas as pd # data processing, CSV file I/O (e.g. pd.read_csv)\n",
    "\n",
    "# Input data files are available in the read-only \"../input/\" directory\n",
    "# For example, running this (by clicking run or pressing Shift+Enter) will list all files under the input directory\n",
    "\n",
    "import os\n",
    "for dirname, _, filenames in os.walk('/kaggle/input'):\n",
    "    for filename in filenames:\n",
    "        print(os.path.join(dirname, filename))\n",
    "\n",
    "# You can write up to 20GB to the current directory (/kaggle/working/) that gets preserved as output when you create a version using \"Save & Run All\" \n",
    "# You can also write temporary files to /kaggle/temp/, but they won't be saved outside of the current session"
   ]
  },
  {
   "cell_type": "markdown",
   "id": "fe026971",
   "metadata": {
    "execution": {
     "iopub.execute_input": "2021-10-16T06:42:18.598532Z",
     "iopub.status.busy": "2021-10-16T06:42:18.598005Z",
     "iopub.status.idle": "2021-10-16T06:42:18.604661Z",
     "shell.execute_reply": "2021-10-16T06:42:18.603418Z",
     "shell.execute_reply.started": "2021-10-16T06:42:18.598498Z"
    },
    "papermill": {
     "duration": 0.017432,
     "end_time": "2021-10-17T05:43:18.648158",
     "exception": false,
     "start_time": "2021-10-17T05:43:18.630726",
     "status": "completed"
    },
    "tags": []
   },
   "source": [
    "<h1>Required modules</h1>\n",
    "<i>Here is a list of dependencies used</i>\n",
    "<ul>\n",
    "    <li>pandas</li>\n",
    "    <li>pyplot</li>\n",
    "    <li>numpy</li>\n",
    "    <li>seaborn</li>\n",
    "</ul>\n",
    "    "
   ]
  },
  {
   "cell_type": "code",
   "execution_count": 2,
   "id": "e32ff480",
   "metadata": {
    "execution": {
     "iopub.execute_input": "2021-10-17T05:43:18.696323Z",
     "iopub.status.busy": "2021-10-17T05:43:18.695165Z",
     "iopub.status.idle": "2021-10-17T05:43:30.702446Z",
     "shell.execute_reply": "2021-10-17T05:43:30.701283Z",
     "shell.execute_reply.started": "2021-10-17T05:20:08.477401Z"
    },
    "papermill": {
     "duration": 12.035206,
     "end_time": "2021-10-17T05:43:30.702627",
     "exception": false,
     "start_time": "2021-10-17T05:43:18.667421",
     "status": "completed"
    },
    "tags": []
   },
   "outputs": [
    {
     "name": "stdout",
     "output_type": "stream",
     "text": [
      "Collecting calmap\r\n",
      "  Downloading calmap-0.0.9-py2.py3-none-any.whl (7.1 kB)\r\n",
      "Requirement already satisfied: matplotlib in /opt/conda/lib/python3.7/site-packages (from calmap) (3.4.3)\r\n",
      "Requirement already satisfied: pandas in /opt/conda/lib/python3.7/site-packages (from calmap) (1.3.3)\r\n",
      "Requirement already satisfied: numpy in /opt/conda/lib/python3.7/site-packages (from calmap) (1.19.5)\r\n",
      "Requirement already satisfied: kiwisolver>=1.0.1 in /opt/conda/lib/python3.7/site-packages (from matplotlib->calmap) (1.3.2)\r\n",
      "Requirement already satisfied: pillow>=6.2.0 in /opt/conda/lib/python3.7/site-packages (from matplotlib->calmap) (8.2.0)\r\n",
      "Requirement already satisfied: python-dateutil>=2.7 in /opt/conda/lib/python3.7/site-packages (from matplotlib->calmap) (2.8.0)\r\n",
      "Requirement already satisfied: cycler>=0.10 in /opt/conda/lib/python3.7/site-packages (from matplotlib->calmap) (0.10.0)\r\n",
      "Requirement already satisfied: pyparsing>=2.2.1 in /opt/conda/lib/python3.7/site-packages (from matplotlib->calmap) (2.4.7)\r\n",
      "Requirement already satisfied: six in /opt/conda/lib/python3.7/site-packages (from cycler>=0.10->matplotlib->calmap) (1.16.0)\r\n",
      "Requirement already satisfied: pytz>=2017.3 in /opt/conda/lib/python3.7/site-packages (from pandas->calmap) (2021.1)\r\n",
      "Installing collected packages: calmap\r\n",
      "Successfully installed calmap-0.0.9\r\n",
      "\u001b[33mWARNING: Running pip as the 'root' user can result in broken permissions and conflicting behaviour with the system package manager. It is recommended to use a virtual environment instead: https://pip.pypa.io/warnings/venv\u001b[0m\r\n"
     ]
    }
   ],
   "source": [
    "!pip install calmap\n",
    "import matplotlib.pyplot as plt\n",
    "import seaborn as sns\n",
    "import calmap\n",
    "import datetime\n",
    "import calendar"
   ]
  },
  {
   "cell_type": "code",
   "execution_count": 3,
   "id": "5f3e4da1",
   "metadata": {
    "execution": {
     "iopub.execute_input": "2021-10-17T05:43:30.746936Z",
     "iopub.status.busy": "2021-10-17T05:43:30.746283Z",
     "iopub.status.idle": "2021-10-17T05:43:31.292886Z",
     "shell.execute_reply": "2021-10-17T05:43:31.293410Z",
     "shell.execute_reply.started": "2021-10-17T05:20:15.580927Z"
    },
    "papermill": {
     "duration": 0.571163,
     "end_time": "2021-10-17T05:43:31.293596",
     "exception": false,
     "start_time": "2021-10-17T05:43:30.722433",
     "status": "completed"
    },
    "tags": []
   },
   "outputs": [
    {
     "data": {
      "text/html": [
       "<div>\n",
       "<style scoped>\n",
       "    .dataframe tbody tr th:only-of-type {\n",
       "        vertical-align: middle;\n",
       "    }\n",
       "\n",
       "    .dataframe tbody tr th {\n",
       "        vertical-align: top;\n",
       "    }\n",
       "\n",
       "    .dataframe thead th {\n",
       "        text-align: right;\n",
       "    }\n",
       "</style>\n",
       "<table border=\"1\" class=\"dataframe\">\n",
       "  <thead>\n",
       "    <tr style=\"text-align: right;\">\n",
       "      <th></th>\n",
       "      <th>User uuid</th>\n",
       "      <th>Likes</th>\n",
       "      <th>Days passed from post</th>\n",
       "      <th>Likes Score</th>\n",
       "      <th>Type</th>\n",
       "      <th>Numer of Tags</th>\n",
       "      <th>Numer of Comments</th>\n",
       "      <th>Date Posted</th>\n",
       "      <th>Year</th>\n",
       "      <th>Month</th>\n",
       "      <th>Day</th>\n",
       "      <th>Hour</th>\n",
       "      <th>Minute</th>\n",
       "    </tr>\n",
       "  </thead>\n",
       "  <tbody>\n",
       "    <tr>\n",
       "      <th>0</th>\n",
       "      <td>1</td>\n",
       "      <td>506</td>\n",
       "      <td>657</td>\n",
       "      <td>0.74</td>\n",
       "      <td>Image</td>\n",
       "      <td>3</td>\n",
       "      <td>11</td>\n",
       "      <td>2019-05-12 21:18:39</td>\n",
       "      <td>2019</td>\n",
       "      <td>5</td>\n",
       "      <td>12</td>\n",
       "      <td>21</td>\n",
       "      <td>18</td>\n",
       "    </tr>\n",
       "    <tr>\n",
       "      <th>1</th>\n",
       "      <td>1</td>\n",
       "      <td>385</td>\n",
       "      <td>657</td>\n",
       "      <td>0.57</td>\n",
       "      <td>Image</td>\n",
       "      <td>0</td>\n",
       "      <td>1</td>\n",
       "      <td>2019-05-12 14:25:55</td>\n",
       "      <td>2019</td>\n",
       "      <td>5</td>\n",
       "      <td>12</td>\n",
       "      <td>14</td>\n",
       "      <td>25</td>\n",
       "    </tr>\n",
       "    <tr>\n",
       "      <th>2</th>\n",
       "      <td>1</td>\n",
       "      <td>373</td>\n",
       "      <td>666</td>\n",
       "      <td>0.55</td>\n",
       "      <td>Images</td>\n",
       "      <td>4</td>\n",
       "      <td>15</td>\n",
       "      <td>2019-05-03 15:18:37</td>\n",
       "      <td>2019</td>\n",
       "      <td>5</td>\n",
       "      <td>3</td>\n",
       "      <td>15</td>\n",
       "      <td>18</td>\n",
       "    </tr>\n",
       "    <tr>\n",
       "      <th>3</th>\n",
       "      <td>1</td>\n",
       "      <td>312</td>\n",
       "      <td>667</td>\n",
       "      <td>0.46</td>\n",
       "      <td>Images</td>\n",
       "      <td>4</td>\n",
       "      <td>1</td>\n",
       "      <td>2019-05-02 16:40:38</td>\n",
       "      <td>2019</td>\n",
       "      <td>5</td>\n",
       "      <td>2</td>\n",
       "      <td>16</td>\n",
       "      <td>40</td>\n",
       "    </tr>\n",
       "    <tr>\n",
       "      <th>4</th>\n",
       "      <td>1</td>\n",
       "      <td>513</td>\n",
       "      <td>674</td>\n",
       "      <td>0.75</td>\n",
       "      <td>Images</td>\n",
       "      <td>5</td>\n",
       "      <td>0</td>\n",
       "      <td>2019-04-25 16:51:58</td>\n",
       "      <td>2019</td>\n",
       "      <td>4</td>\n",
       "      <td>25</td>\n",
       "      <td>16</td>\n",
       "      <td>51</td>\n",
       "    </tr>\n",
       "    <tr>\n",
       "      <th>...</th>\n",
       "      <td>...</td>\n",
       "      <td>...</td>\n",
       "      <td>...</td>\n",
       "      <td>...</td>\n",
       "      <td>...</td>\n",
       "      <td>...</td>\n",
       "      <td>...</td>\n",
       "      <td>...</td>\n",
       "      <td>...</td>\n",
       "      <td>...</td>\n",
       "      <td>...</td>\n",
       "      <td>...</td>\n",
       "      <td>...</td>\n",
       "    </tr>\n",
       "    <tr>\n",
       "      <th>178917</th>\n",
       "      <td>1089</td>\n",
       "      <td>9</td>\n",
       "      <td>821</td>\n",
       "      <td>0.07</td>\n",
       "      <td>Image</td>\n",
       "      <td>0</td>\n",
       "      <td>1</td>\n",
       "      <td>2018-11-29 14:40:11</td>\n",
       "      <td>2018</td>\n",
       "      <td>11</td>\n",
       "      <td>29</td>\n",
       "      <td>14</td>\n",
       "      <td>40</td>\n",
       "    </tr>\n",
       "    <tr>\n",
       "      <th>178918</th>\n",
       "      <td>1089</td>\n",
       "      <td>3</td>\n",
       "      <td>822</td>\n",
       "      <td>0.02</td>\n",
       "      <td>Image</td>\n",
       "      <td>3</td>\n",
       "      <td>0</td>\n",
       "      <td>2018-11-28 20:59:19</td>\n",
       "      <td>2018</td>\n",
       "      <td>11</td>\n",
       "      <td>28</td>\n",
       "      <td>20</td>\n",
       "      <td>59</td>\n",
       "    </tr>\n",
       "    <tr>\n",
       "      <th>178919</th>\n",
       "      <td>1089</td>\n",
       "      <td>2</td>\n",
       "      <td>822</td>\n",
       "      <td>0.01</td>\n",
       "      <td>Image</td>\n",
       "      <td>0</td>\n",
       "      <td>0</td>\n",
       "      <td>2018-11-28 16:27:32</td>\n",
       "      <td>2018</td>\n",
       "      <td>11</td>\n",
       "      <td>28</td>\n",
       "      <td>16</td>\n",
       "      <td>27</td>\n",
       "    </tr>\n",
       "    <tr>\n",
       "      <th>178920</th>\n",
       "      <td>1089</td>\n",
       "      <td>14</td>\n",
       "      <td>822</td>\n",
       "      <td>0.10</td>\n",
       "      <td>Image</td>\n",
       "      <td>0</td>\n",
       "      <td>2</td>\n",
       "      <td>2018-11-28 14:37:13</td>\n",
       "      <td>2018</td>\n",
       "      <td>11</td>\n",
       "      <td>28</td>\n",
       "      <td>14</td>\n",
       "      <td>37</td>\n",
       "    </tr>\n",
       "    <tr>\n",
       "      <th>178921</th>\n",
       "      <td>1089</td>\n",
       "      <td>9</td>\n",
       "      <td>823</td>\n",
       "      <td>0.07</td>\n",
       "      <td>Image</td>\n",
       "      <td>0</td>\n",
       "      <td>0</td>\n",
       "      <td>2018-11-27 14:27:42</td>\n",
       "      <td>2018</td>\n",
       "      <td>11</td>\n",
       "      <td>27</td>\n",
       "      <td>14</td>\n",
       "      <td>27</td>\n",
       "    </tr>\n",
       "  </tbody>\n",
       "</table>\n",
       "<p>178922 rows × 13 columns</p>\n",
       "</div>"
      ],
      "text/plain": [
       "        User uuid  Likes  Days passed from post  Likes Score    Type  \\\n",
       "0               1    506                    657         0.74   Image   \n",
       "1               1    385                    657         0.57   Image   \n",
       "2               1    373                    666         0.55  Images   \n",
       "3               1    312                    667         0.46  Images   \n",
       "4               1    513                    674         0.75  Images   \n",
       "...           ...    ...                    ...          ...     ...   \n",
       "178917       1089      9                    821         0.07   Image   \n",
       "178918       1089      3                    822         0.02   Image   \n",
       "178919       1089      2                    822         0.01   Image   \n",
       "178920       1089     14                    822         0.10   Image   \n",
       "178921       1089      9                    823         0.07   Image   \n",
       "\n",
       "        Numer of Tags  Numer of Comments          Date Posted  Year  Month  \\\n",
       "0                   3                 11  2019-05-12 21:18:39  2019      5   \n",
       "1                   0                  1  2019-05-12 14:25:55  2019      5   \n",
       "2                   4                 15  2019-05-03 15:18:37  2019      5   \n",
       "3                   4                  1  2019-05-02 16:40:38  2019      5   \n",
       "4                   5                  0  2019-04-25 16:51:58  2019      4   \n",
       "...               ...                ...                  ...   ...    ...   \n",
       "178917              0                  1  2018-11-29 14:40:11  2018     11   \n",
       "178918              3                  0  2018-11-28 20:59:19  2018     11   \n",
       "178919              0                  0  2018-11-28 16:27:32  2018     11   \n",
       "178920              0                  2  2018-11-28 14:37:13  2018     11   \n",
       "178921              0                  0  2018-11-27 14:27:42  2018     11   \n",
       "\n",
       "        Day  Hour  Minute  \n",
       "0        12    21      18  \n",
       "1        12    14      25  \n",
       "2         3    15      18  \n",
       "3         2    16      40  \n",
       "4        25    16      51  \n",
       "...     ...   ...     ...  \n",
       "178917   29    14      40  \n",
       "178918   28    20      59  \n",
       "178919   28    16      27  \n",
       "178920   28    14      37  \n",
       "178921   27    14      27  \n",
       "\n",
       "[178922 rows x 13 columns]"
      ]
     },
     "execution_count": 3,
     "metadata": {},
     "output_type": "execute_result"
    }
   ],
   "source": [
    "df=pd.read_csv('../input/1100-instagram-users-datetime-posts-data/Instagram_Data.csv')\n",
    "df"
   ]
  },
  {
   "cell_type": "markdown",
   "id": "934b1584",
   "metadata": {
    "papermill": {
     "duration": 0.019422,
     "end_time": "2021-10-17T05:43:31.332813",
     "exception": false,
     "start_time": "2021-10-17T05:43:31.313391",
     "status": "completed"
    },
    "tags": []
   },
   "source": [
    "<h1>Computing the derived column day of the week</h1>"
   ]
  },
  {
   "cell_type": "code",
   "execution_count": 4,
   "id": "d86dd9a3",
   "metadata": {
    "execution": {
     "iopub.execute_input": "2021-10-17T05:43:31.387748Z",
     "iopub.status.busy": "2021-10-17T05:43:31.386937Z",
     "iopub.status.idle": "2021-10-17T05:43:34.469780Z",
     "shell.execute_reply": "2021-10-17T05:43:34.470540Z",
     "shell.execute_reply.started": "2021-10-17T05:20:46.494032Z"
    },
    "papermill": {
     "duration": 3.118171,
     "end_time": "2021-10-17T05:43:34.470718",
     "exception": false,
     "start_time": "2021-10-17T05:43:31.352547",
     "status": "completed"
    },
    "tags": []
   },
   "outputs": [
    {
     "data": {
      "text/html": [
       "<div>\n",
       "<style scoped>\n",
       "    .dataframe tbody tr th:only-of-type {\n",
       "        vertical-align: middle;\n",
       "    }\n",
       "\n",
       "    .dataframe tbody tr th {\n",
       "        vertical-align: top;\n",
       "    }\n",
       "\n",
       "    .dataframe thead th {\n",
       "        text-align: right;\n",
       "    }\n",
       "</style>\n",
       "<table border=\"1\" class=\"dataframe\">\n",
       "  <thead>\n",
       "    <tr style=\"text-align: right;\">\n",
       "      <th></th>\n",
       "      <th>User uuid</th>\n",
       "      <th>Likes</th>\n",
       "      <th>Days passed from post</th>\n",
       "      <th>Likes Score</th>\n",
       "      <th>Type</th>\n",
       "      <th>Numer of Tags</th>\n",
       "      <th>Numer of Comments</th>\n",
       "      <th>Date Posted</th>\n",
       "      <th>Year</th>\n",
       "      <th>Month</th>\n",
       "      <th>Day</th>\n",
       "      <th>Hour</th>\n",
       "      <th>Minute</th>\n",
       "      <th>Day_of_week</th>\n",
       "    </tr>\n",
       "  </thead>\n",
       "  <tbody>\n",
       "    <tr>\n",
       "      <th>0</th>\n",
       "      <td>1</td>\n",
       "      <td>506</td>\n",
       "      <td>657</td>\n",
       "      <td>0.74</td>\n",
       "      <td>Image</td>\n",
       "      <td>3</td>\n",
       "      <td>11</td>\n",
       "      <td>2019-05-12 21:18:39</td>\n",
       "      <td>2019</td>\n",
       "      <td>5</td>\n",
       "      <td>12</td>\n",
       "      <td>21</td>\n",
       "      <td>18</td>\n",
       "      <td>Sunday</td>\n",
       "    </tr>\n",
       "    <tr>\n",
       "      <th>1</th>\n",
       "      <td>1</td>\n",
       "      <td>385</td>\n",
       "      <td>657</td>\n",
       "      <td>0.57</td>\n",
       "      <td>Image</td>\n",
       "      <td>0</td>\n",
       "      <td>1</td>\n",
       "      <td>2019-05-12 14:25:55</td>\n",
       "      <td>2019</td>\n",
       "      <td>5</td>\n",
       "      <td>12</td>\n",
       "      <td>14</td>\n",
       "      <td>25</td>\n",
       "      <td>Sunday</td>\n",
       "    </tr>\n",
       "    <tr>\n",
       "      <th>2</th>\n",
       "      <td>1</td>\n",
       "      <td>373</td>\n",
       "      <td>666</td>\n",
       "      <td>0.55</td>\n",
       "      <td>Images</td>\n",
       "      <td>4</td>\n",
       "      <td>15</td>\n",
       "      <td>2019-05-03 15:18:37</td>\n",
       "      <td>2019</td>\n",
       "      <td>5</td>\n",
       "      <td>3</td>\n",
       "      <td>15</td>\n",
       "      <td>18</td>\n",
       "      <td>Friday</td>\n",
       "    </tr>\n",
       "    <tr>\n",
       "      <th>3</th>\n",
       "      <td>1</td>\n",
       "      <td>312</td>\n",
       "      <td>667</td>\n",
       "      <td>0.46</td>\n",
       "      <td>Images</td>\n",
       "      <td>4</td>\n",
       "      <td>1</td>\n",
       "      <td>2019-05-02 16:40:38</td>\n",
       "      <td>2019</td>\n",
       "      <td>5</td>\n",
       "      <td>2</td>\n",
       "      <td>16</td>\n",
       "      <td>40</td>\n",
       "      <td>Thursday</td>\n",
       "    </tr>\n",
       "    <tr>\n",
       "      <th>4</th>\n",
       "      <td>1</td>\n",
       "      <td>513</td>\n",
       "      <td>674</td>\n",
       "      <td>0.75</td>\n",
       "      <td>Images</td>\n",
       "      <td>5</td>\n",
       "      <td>0</td>\n",
       "      <td>2019-04-25 16:51:58</td>\n",
       "      <td>2019</td>\n",
       "      <td>4</td>\n",
       "      <td>25</td>\n",
       "      <td>16</td>\n",
       "      <td>51</td>\n",
       "      <td>Thursday</td>\n",
       "    </tr>\n",
       "    <tr>\n",
       "      <th>...</th>\n",
       "      <td>...</td>\n",
       "      <td>...</td>\n",
       "      <td>...</td>\n",
       "      <td>...</td>\n",
       "      <td>...</td>\n",
       "      <td>...</td>\n",
       "      <td>...</td>\n",
       "      <td>...</td>\n",
       "      <td>...</td>\n",
       "      <td>...</td>\n",
       "      <td>...</td>\n",
       "      <td>...</td>\n",
       "      <td>...</td>\n",
       "      <td>...</td>\n",
       "    </tr>\n",
       "    <tr>\n",
       "      <th>178917</th>\n",
       "      <td>1089</td>\n",
       "      <td>9</td>\n",
       "      <td>821</td>\n",
       "      <td>0.07</td>\n",
       "      <td>Image</td>\n",
       "      <td>0</td>\n",
       "      <td>1</td>\n",
       "      <td>2018-11-29 14:40:11</td>\n",
       "      <td>2018</td>\n",
       "      <td>11</td>\n",
       "      <td>29</td>\n",
       "      <td>14</td>\n",
       "      <td>40</td>\n",
       "      <td>Thursday</td>\n",
       "    </tr>\n",
       "    <tr>\n",
       "      <th>178918</th>\n",
       "      <td>1089</td>\n",
       "      <td>3</td>\n",
       "      <td>822</td>\n",
       "      <td>0.02</td>\n",
       "      <td>Image</td>\n",
       "      <td>3</td>\n",
       "      <td>0</td>\n",
       "      <td>2018-11-28 20:59:19</td>\n",
       "      <td>2018</td>\n",
       "      <td>11</td>\n",
       "      <td>28</td>\n",
       "      <td>20</td>\n",
       "      <td>59</td>\n",
       "      <td>Wednesday</td>\n",
       "    </tr>\n",
       "    <tr>\n",
       "      <th>178919</th>\n",
       "      <td>1089</td>\n",
       "      <td>2</td>\n",
       "      <td>822</td>\n",
       "      <td>0.01</td>\n",
       "      <td>Image</td>\n",
       "      <td>0</td>\n",
       "      <td>0</td>\n",
       "      <td>2018-11-28 16:27:32</td>\n",
       "      <td>2018</td>\n",
       "      <td>11</td>\n",
       "      <td>28</td>\n",
       "      <td>16</td>\n",
       "      <td>27</td>\n",
       "      <td>Wednesday</td>\n",
       "    </tr>\n",
       "    <tr>\n",
       "      <th>178920</th>\n",
       "      <td>1089</td>\n",
       "      <td>14</td>\n",
       "      <td>822</td>\n",
       "      <td>0.10</td>\n",
       "      <td>Image</td>\n",
       "      <td>0</td>\n",
       "      <td>2</td>\n",
       "      <td>2018-11-28 14:37:13</td>\n",
       "      <td>2018</td>\n",
       "      <td>11</td>\n",
       "      <td>28</td>\n",
       "      <td>14</td>\n",
       "      <td>37</td>\n",
       "      <td>Wednesday</td>\n",
       "    </tr>\n",
       "    <tr>\n",
       "      <th>178921</th>\n",
       "      <td>1089</td>\n",
       "      <td>9</td>\n",
       "      <td>823</td>\n",
       "      <td>0.07</td>\n",
       "      <td>Image</td>\n",
       "      <td>0</td>\n",
       "      <td>0</td>\n",
       "      <td>2018-11-27 14:27:42</td>\n",
       "      <td>2018</td>\n",
       "      <td>11</td>\n",
       "      <td>27</td>\n",
       "      <td>14</td>\n",
       "      <td>27</td>\n",
       "      <td>Tuesday</td>\n",
       "    </tr>\n",
       "  </tbody>\n",
       "</table>\n",
       "<p>178922 rows × 14 columns</p>\n",
       "</div>"
      ],
      "text/plain": [
       "        User uuid  Likes  Days passed from post  Likes Score    Type  \\\n",
       "0               1    506                    657         0.74   Image   \n",
       "1               1    385                    657         0.57   Image   \n",
       "2               1    373                    666         0.55  Images   \n",
       "3               1    312                    667         0.46  Images   \n",
       "4               1    513                    674         0.75  Images   \n",
       "...           ...    ...                    ...          ...     ...   \n",
       "178917       1089      9                    821         0.07   Image   \n",
       "178918       1089      3                    822         0.02   Image   \n",
       "178919       1089      2                    822         0.01   Image   \n",
       "178920       1089     14                    822         0.10   Image   \n",
       "178921       1089      9                    823         0.07   Image   \n",
       "\n",
       "        Numer of Tags  Numer of Comments          Date Posted  Year  Month  \\\n",
       "0                   3                 11  2019-05-12 21:18:39  2019      5   \n",
       "1                   0                  1  2019-05-12 14:25:55  2019      5   \n",
       "2                   4                 15  2019-05-03 15:18:37  2019      5   \n",
       "3                   4                  1  2019-05-02 16:40:38  2019      5   \n",
       "4                   5                  0  2019-04-25 16:51:58  2019      4   \n",
       "...               ...                ...                  ...   ...    ...   \n",
       "178917              0                  1  2018-11-29 14:40:11  2018     11   \n",
       "178918              3                  0  2018-11-28 20:59:19  2018     11   \n",
       "178919              0                  0  2018-11-28 16:27:32  2018     11   \n",
       "178920              0                  2  2018-11-28 14:37:13  2018     11   \n",
       "178921              0                  0  2018-11-27 14:27:42  2018     11   \n",
       "\n",
       "        Day  Hour  Minute Day_of_week  \n",
       "0        12    21      18      Sunday  \n",
       "1        12    14      25      Sunday  \n",
       "2         3    15      18      Friday  \n",
       "3         2    16      40    Thursday  \n",
       "4        25    16      51    Thursday  \n",
       "...     ...   ...     ...         ...  \n",
       "178917   29    14      40    Thursday  \n",
       "178918   28    20      59   Wednesday  \n",
       "178919   28    16      27   Wednesday  \n",
       "178920   28    14      37   Wednesday  \n",
       "178921   27    14      27     Tuesday  \n",
       "\n",
       "[178922 rows x 14 columns]"
      ]
     },
     "execution_count": 4,
     "metadata": {},
     "output_type": "execute_result"
    }
   ],
   "source": [
    "def foo(date):\n",
    "    date=date.split(' ')[0]\n",
    "    born = datetime.datetime.strptime(date, '%Y-%m-%d').weekday()\n",
    "    return (calendar.day_name[born])\n",
    "\n",
    "ide=[foo(x) for x in df['Date Posted']]\n",
    "df['Day_of_week']=ide\n",
    "df"
   ]
  },
  {
   "cell_type": "code",
   "execution_count": 5,
   "id": "fb67013d",
   "metadata": {
    "execution": {
     "iopub.execute_input": "2021-10-17T05:43:34.516851Z",
     "iopub.status.busy": "2021-10-17T05:43:34.515881Z",
     "iopub.status.idle": "2021-10-17T05:43:34.599877Z",
     "shell.execute_reply": "2021-10-17T05:43:34.600569Z",
     "shell.execute_reply.started": "2021-10-17T05:20:17.991318Z"
    },
    "papermill": {
     "duration": 0.10904,
     "end_time": "2021-10-17T05:43:34.600804",
     "exception": false,
     "start_time": "2021-10-17T05:43:34.491764",
     "status": "completed"
    },
    "tags": []
   },
   "outputs": [
    {
     "name": "stdout",
     "output_type": "stream",
     "text": [
      "<class 'pandas.core.frame.DataFrame'>\n",
      "RangeIndex: 178922 entries, 0 to 178921\n",
      "Data columns (total 14 columns):\n",
      " #   Column                 Non-Null Count   Dtype  \n",
      "---  ------                 --------------   -----  \n",
      " 0   User uuid              178922 non-null  int64  \n",
      " 1   Likes                  178922 non-null  int64  \n",
      " 2   Days passed from post  178922 non-null  int64  \n",
      " 3   Likes Score            178922 non-null  float64\n",
      " 4   Type                   178922 non-null  object \n",
      " 5   Numer of Tags          178922 non-null  int64  \n",
      " 6   Numer of Comments      178922 non-null  int64  \n",
      " 7   Date Posted            178922 non-null  object \n",
      " 8   Year                   178922 non-null  int64  \n",
      " 9   Month                  178922 non-null  int64  \n",
      " 10  Day                    178922 non-null  int64  \n",
      " 11  Hour                   178922 non-null  int64  \n",
      " 12  Minute                 178922 non-null  int64  \n",
      " 13  Day_of_week            178922 non-null  object \n",
      "dtypes: float64(1), int64(10), object(3)\n",
      "memory usage: 19.1+ MB\n"
     ]
    }
   ],
   "source": [
    "df.info()"
   ]
  },
  {
   "cell_type": "code",
   "execution_count": 6,
   "id": "b9d97adf",
   "metadata": {
    "execution": {
     "iopub.execute_input": "2021-10-17T05:43:34.647227Z",
     "iopub.status.busy": "2021-10-17T05:43:34.646278Z",
     "iopub.status.idle": "2021-10-17T05:43:34.752947Z",
     "shell.execute_reply": "2021-10-17T05:43:34.752320Z",
     "shell.execute_reply.started": "2021-10-17T05:20:18.036269Z"
    },
    "papermill": {
     "duration": 0.130565,
     "end_time": "2021-10-17T05:43:34.753087",
     "exception": false,
     "start_time": "2021-10-17T05:43:34.622522",
     "status": "completed"
    },
    "tags": []
   },
   "outputs": [
    {
     "data": {
      "text/html": [
       "<div>\n",
       "<style scoped>\n",
       "    .dataframe tbody tr th:only-of-type {\n",
       "        vertical-align: middle;\n",
       "    }\n",
       "\n",
       "    .dataframe tbody tr th {\n",
       "        vertical-align: top;\n",
       "    }\n",
       "\n",
       "    .dataframe thead th {\n",
       "        text-align: right;\n",
       "    }\n",
       "</style>\n",
       "<table border=\"1\" class=\"dataframe\">\n",
       "  <thead>\n",
       "    <tr style=\"text-align: right;\">\n",
       "      <th></th>\n",
       "      <th>User uuid</th>\n",
       "      <th>Likes</th>\n",
       "      <th>Days passed from post</th>\n",
       "      <th>Likes Score</th>\n",
       "      <th>Numer of Tags</th>\n",
       "      <th>Numer of Comments</th>\n",
       "      <th>Year</th>\n",
       "      <th>Month</th>\n",
       "      <th>Day</th>\n",
       "      <th>Hour</th>\n",
       "      <th>Minute</th>\n",
       "    </tr>\n",
       "  </thead>\n",
       "  <tbody>\n",
       "    <tr>\n",
       "      <th>count</th>\n",
       "      <td>178922.000000</td>\n",
       "      <td>1.789220e+05</td>\n",
       "      <td>178922.000000</td>\n",
       "      <td>178922.000000</td>\n",
       "      <td>178922.000000</td>\n",
       "      <td>1.789220e+05</td>\n",
       "      <td>178922.000000</td>\n",
       "      <td>178922.000000</td>\n",
       "      <td>178922.000000</td>\n",
       "      <td>178922.000000</td>\n",
       "      <td>178922.000000</td>\n",
       "    </tr>\n",
       "    <tr>\n",
       "      <th>mean</th>\n",
       "      <td>546.316948</td>\n",
       "      <td>4.298806e+04</td>\n",
       "      <td>447.477510</td>\n",
       "      <td>0.270961</td>\n",
       "      <td>3.578045</td>\n",
       "      <td>5.622285e+02</td>\n",
       "      <td>2019.412107</td>\n",
       "      <td>6.764814</td>\n",
       "      <td>15.694219</td>\n",
       "      <td>13.396435</td>\n",
       "      <td>28.741737</td>\n",
       "    </tr>\n",
       "    <tr>\n",
       "      <th>std</th>\n",
       "      <td>317.200142</td>\n",
       "      <td>2.604648e+05</td>\n",
       "      <td>492.620418</td>\n",
       "      <td>0.210007</td>\n",
       "      <td>6.877008</td>\n",
       "      <td>1.201380e+04</td>\n",
       "      <td>1.374731</td>\n",
       "      <td>3.753390</td>\n",
       "      <td>8.824645</td>\n",
       "      <td>7.385343</td>\n",
       "      <td>17.678904</td>\n",
       "    </tr>\n",
       "    <tr>\n",
       "      <th>min</th>\n",
       "      <td>1.000000</td>\n",
       "      <td>0.000000e+00</td>\n",
       "      <td>0.000000</td>\n",
       "      <td>0.000000</td>\n",
       "      <td>0.000000</td>\n",
       "      <td>0.000000e+00</td>\n",
       "      <td>2010.000000</td>\n",
       "      <td>1.000000</td>\n",
       "      <td>1.000000</td>\n",
       "      <td>0.000000</td>\n",
       "      <td>0.000000</td>\n",
       "    </tr>\n",
       "    <tr>\n",
       "      <th>25%</th>\n",
       "      <td>273.000000</td>\n",
       "      <td>1.340000e+02</td>\n",
       "      <td>107.000000</td>\n",
       "      <td>0.100000</td>\n",
       "      <td>0.000000</td>\n",
       "      <td>4.000000e+00</td>\n",
       "      <td>2019.000000</td>\n",
       "      <td>3.000000</td>\n",
       "      <td>8.000000</td>\n",
       "      <td>7.000000</td>\n",
       "      <td>13.000000</td>\n",
       "    </tr>\n",
       "    <tr>\n",
       "      <th>50%</th>\n",
       "      <td>540.000000</td>\n",
       "      <td>1.064000e+03</td>\n",
       "      <td>260.000000</td>\n",
       "      <td>0.220000</td>\n",
       "      <td>0.000000</td>\n",
       "      <td>2.300000e+01</td>\n",
       "      <td>2020.000000</td>\n",
       "      <td>7.000000</td>\n",
       "      <td>16.000000</td>\n",
       "      <td>16.000000</td>\n",
       "      <td>29.000000</td>\n",
       "    </tr>\n",
       "    <tr>\n",
       "      <th>75%</th>\n",
       "      <td>829.000000</td>\n",
       "      <td>1.074300e+04</td>\n",
       "      <td>612.000000</td>\n",
       "      <td>0.390000</td>\n",
       "      <td>3.000000</td>\n",
       "      <td>1.357500e+02</td>\n",
       "      <td>2020.000000</td>\n",
       "      <td>10.000000</td>\n",
       "      <td>23.000000</td>\n",
       "      <td>20.000000</td>\n",
       "      <td>44.000000</td>\n",
       "    </tr>\n",
       "    <tr>\n",
       "      <th>max</th>\n",
       "      <td>1089.000000</td>\n",
       "      <td>1.544569e+07</td>\n",
       "      <td>3775.000000</td>\n",
       "      <td>1.000000</td>\n",
       "      <td>31.000000</td>\n",
       "      <td>2.907644e+06</td>\n",
       "      <td>2021.000000</td>\n",
       "      <td>12.000000</td>\n",
       "      <td>31.000000</td>\n",
       "      <td>23.000000</td>\n",
       "      <td>59.000000</td>\n",
       "    </tr>\n",
       "  </tbody>\n",
       "</table>\n",
       "</div>"
      ],
      "text/plain": [
       "           User uuid         Likes  Days passed from post    Likes Score  \\\n",
       "count  178922.000000  1.789220e+05          178922.000000  178922.000000   \n",
       "mean      546.316948  4.298806e+04             447.477510       0.270961   \n",
       "std       317.200142  2.604648e+05             492.620418       0.210007   \n",
       "min         1.000000  0.000000e+00               0.000000       0.000000   \n",
       "25%       273.000000  1.340000e+02             107.000000       0.100000   \n",
       "50%       540.000000  1.064000e+03             260.000000       0.220000   \n",
       "75%       829.000000  1.074300e+04             612.000000       0.390000   \n",
       "max      1089.000000  1.544569e+07            3775.000000       1.000000   \n",
       "\n",
       "       Numer of Tags  Numer of Comments           Year          Month  \\\n",
       "count  178922.000000       1.789220e+05  178922.000000  178922.000000   \n",
       "mean        3.578045       5.622285e+02    2019.412107       6.764814   \n",
       "std         6.877008       1.201380e+04       1.374731       3.753390   \n",
       "min         0.000000       0.000000e+00    2010.000000       1.000000   \n",
       "25%         0.000000       4.000000e+00    2019.000000       3.000000   \n",
       "50%         0.000000       2.300000e+01    2020.000000       7.000000   \n",
       "75%         3.000000       1.357500e+02    2020.000000      10.000000   \n",
       "max        31.000000       2.907644e+06    2021.000000      12.000000   \n",
       "\n",
       "                 Day           Hour         Minute  \n",
       "count  178922.000000  178922.000000  178922.000000  \n",
       "mean       15.694219      13.396435      28.741737  \n",
       "std         8.824645       7.385343      17.678904  \n",
       "min         1.000000       0.000000       0.000000  \n",
       "25%         8.000000       7.000000      13.000000  \n",
       "50%        16.000000      16.000000      29.000000  \n",
       "75%        23.000000      20.000000      44.000000  \n",
       "max        31.000000      23.000000      59.000000  "
      ]
     },
     "execution_count": 6,
     "metadata": {},
     "output_type": "execute_result"
    }
   ],
   "source": [
    "df.describe()"
   ]
  },
  {
   "cell_type": "code",
   "execution_count": 7,
   "id": "392fc74a",
   "metadata": {
    "execution": {
     "iopub.execute_input": "2021-10-17T05:43:34.803015Z",
     "iopub.status.busy": "2021-10-17T05:43:34.802376Z",
     "iopub.status.idle": "2021-10-17T05:43:36.056561Z",
     "shell.execute_reply": "2021-10-17T05:43:36.055956Z",
     "shell.execute_reply.started": "2021-10-17T05:20:18.142656Z"
    },
    "papermill": {
     "duration": 1.282042,
     "end_time": "2021-10-17T05:43:36.056718",
     "exception": false,
     "start_time": "2021-10-17T05:43:34.774676",
     "status": "completed"
    },
    "tags": []
   },
   "outputs": [
    {
     "data": {
      "text/plain": [
       "Text(0, 0.5, 'Likes')"
      ]
     },
     "execution_count": 7,
     "metadata": {},
     "output_type": "execute_result"
    },
    {
     "data": {
      "image/png": "[encoded data removed]",
      "text/plain": [
       "<Figure size 432x288 with 1 Axes>"
      ]
     },
     "metadata": {
      "needs_background": "light"
     },
     "output_type": "display_data"
    }
   ],
   "source": [
    "sns.kdeplot(df.Day)\n",
    "plt.ylabel('Likes')"
   ]
  },
  {
   "cell_type": "markdown",
   "id": "ae609b40",
   "metadata": {
    "papermill": {
     "duration": 0.023135,
     "end_time": "2021-10-17T05:43:36.102664",
     "exception": false,
     "start_time": "2021-10-17T05:43:36.079529",
     "status": "completed"
    },
    "tags": []
   },
   "source": [
    "<h3>We see below that for each type of post the graph shows a similar curve when plotted againt Hour</h3>"
   ]
  },
  {
   "cell_type": "code",
   "execution_count": 8,
   "id": "f89e4c84",
   "metadata": {
    "execution": {
     "iopub.execute_input": "2021-10-17T05:43:36.152161Z",
     "iopub.status.busy": "2021-10-17T05:43:36.151220Z",
     "iopub.status.idle": "2021-10-17T05:43:36.982071Z",
     "shell.execute_reply": "2021-10-17T05:43:36.981461Z",
     "shell.execute_reply.started": "2021-10-17T05:20:19.261616Z"
    },
    "papermill": {
     "duration": 0.856397,
     "end_time": "2021-10-17T05:43:36.982203",
     "exception": false,
     "start_time": "2021-10-17T05:43:36.125806",
     "status": "completed"
    },
    "tags": []
   },
   "outputs": [
    {
     "data": {
      "text/plain": [
       "<AxesSubplot:xlabel='Hour', ylabel='Density'>"
      ]
     },
     "execution_count": 8,
     "metadata": {},
     "output_type": "execute_result"
    },
    {
     "data": {
      "image/png": "[encoded data removed]",
      "text/plain": [
       "<Figure size 432x288 with 1 Axes>"
      ]
     },
     "metadata": {
      "needs_background": "light"
     },
     "output_type": "display_data"
    }
   ],
   "source": [
    "sns.kdeplot(x=df.query(\"Type == 'Image'\").Hour)"
   ]
  },
  {
   "cell_type": "code",
   "execution_count": 9,
   "id": "16790f5f",
   "metadata": {
    "execution": {
     "iopub.execute_input": "2021-10-17T05:43:37.044615Z",
     "iopub.status.busy": "2021-10-17T05:43:37.034602Z",
     "iopub.status.idle": "2021-10-17T05:43:37.464413Z",
     "shell.execute_reply": "2021-10-17T05:43:37.463736Z",
     "shell.execute_reply.started": "2021-10-17T05:20:20.030761Z"
    },
    "papermill": {
     "duration": 0.458423,
     "end_time": "2021-10-17T05:43:37.464561",
     "exception": false,
     "start_time": "2021-10-17T05:43:37.006138",
     "status": "completed"
    },
    "tags": []
   },
   "outputs": [
    {
     "data": {
      "text/plain": [
       "<AxesSubplot:xlabel='Hour', ylabel='Density'>"
      ]
     },
     "execution_count": 9,
     "metadata": {},
     "output_type": "execute_result"
    },
    {
     "data": {
      "image/png": "[encoded data removed]",
      "text/plain": [
       "<Figure size 432x288 with 1 Axes>"
      ]
     },
     "metadata": {
      "needs_background": "light"
     },
     "output_type": "display_data"
    }
   ],
   "source": [
    "sns.kdeplot(x=df.query(\"Type == 'Images'\").Hour)"
   ]
  },
  {
   "cell_type": "code",
   "execution_count": 10,
   "id": "5e41cba1",
   "metadata": {
    "execution": {
     "iopub.execute_input": "2021-10-17T05:43:37.529650Z",
     "iopub.status.busy": "2021-10-17T05:43:37.519848Z",
     "iopub.status.idle": "2021-10-17T05:43:37.913668Z",
     "shell.execute_reply": "2021-10-17T05:43:37.914160Z",
     "shell.execute_reply.started": "2021-10-17T05:20:20.449145Z"
    },
    "papermill": {
     "duration": 0.424666,
     "end_time": "2021-10-17T05:43:37.914380",
     "exception": false,
     "start_time": "2021-10-17T05:43:37.489714",
     "status": "completed"
    },
    "tags": []
   },
   "outputs": [
    {
     "data": {
      "text/plain": [
       "<AxesSubplot:xlabel='Hour', ylabel='Density'>"
      ]
     },
     "execution_count": 10,
     "metadata": {},
     "output_type": "execute_result"
    },
    {
     "data": {
      "image/png": "[encoded data removed]",
      "text/plain": [
       "<Figure size 432x288 with 1 Axes>"
      ]
     },
     "metadata": {
      "needs_background": "light"
     },
     "output_type": "display_data"
    }
   ],
   "source": [
    "sns.kdeplot(x=df.query(\"Type == 'Video'\").Hour)"
   ]
  },
  {
   "cell_type": "markdown",
   "id": "52216a3d",
   "metadata": {
    "papermill": {
     "duration": 0.025694,
     "end_time": "2021-10-17T05:43:37.966714",
     "exception": false,
     "start_time": "2021-10-17T05:43:37.941020",
     "status": "completed"
    },
    "tags": []
   },
   "source": [
    "<h3>Since social media was not popular before 2018, we consider the calendar map after 2018. We see that more likes are seen towards the end of each year and also comparitively more likes during the weekends.</h3>"
   ]
  },
  {
   "cell_type": "code",
   "execution_count": 11,
   "id": "77028199",
   "metadata": {
    "execution": {
     "iopub.execute_input": "2021-10-17T05:43:38.027662Z",
     "iopub.status.busy": "2021-10-17T05:43:38.025565Z",
     "iopub.status.idle": "2021-10-17T05:43:38.970476Z",
     "shell.execute_reply": "2021-10-17T05:43:38.969833Z",
     "shell.execute_reply.started": "2021-10-17T05:28:55.872144Z"
    },
    "papermill": {
     "duration": 0.977727,
     "end_time": "2021-10-17T05:43:38.970615",
     "exception": false,
     "start_time": "2021-10-17T05:43:37.992888",
     "status": "completed"
    },
    "tags": []
   },
   "outputs": [
    {
     "data": {
      "text/plain": [
       "(<Figure size 1440x720 with 4 Axes>,\n",
       " array([<AxesSubplot:ylabel='2018'>, <AxesSubplot:ylabel='2019'>,\n",
       "        <AxesSubplot:ylabel='2020'>, <AxesSubplot:ylabel='2021'>],\n",
       "       dtype=object))"
      ]
     },
     "execution_count": 11,
     "metadata": {},
     "output_type": "execute_result"
    },
    {
     "data": {
      "image/png": "[encoded data removed]",
      "text/plain": [
       "<Figure size 1440x720 with 4 Axes>"
      ]
     },
     "metadata": {
      "needs_background": "light"
     },
     "output_type": "display_data"
    }
   ],
   "source": [
    "x=df.set_index('Date Posted')\n",
    "x=x.loc[x.Year>2017]\n",
    "x.index = pd.to_datetime(x.index)\n",
    "calmap.calendarplot(x['Likes'], fig_kws=dict(figsize=(20, 10)), cmap='YlGn',fillcolor='grey')"
   ]
  },
  {
   "cell_type": "code",
   "execution_count": 12,
   "id": "19049475",
   "metadata": {
    "execution": {
     "iopub.execute_input": "2021-10-17T05:43:39.032922Z",
     "iopub.status.busy": "2021-10-17T05:43:39.031928Z",
     "iopub.status.idle": "2021-10-17T05:43:39.035802Z",
     "shell.execute_reply": "2021-10-17T05:43:39.036334Z",
     "shell.execute_reply.started": "2021-10-17T05:20:21.734462Z"
    },
    "papermill": {
     "duration": 0.037538,
     "end_time": "2021-10-17T05:43:39.036511",
     "exception": false,
     "start_time": "2021-10-17T05:43:38.998973",
     "status": "completed"
    },
    "tags": []
   },
   "outputs": [
    {
     "data": {
      "text/plain": [
       "161217"
      ]
     },
     "execution_count": 12,
     "metadata": {},
     "output_type": "execute_result"
    }
   ],
   "source": [
    "len(x)"
   ]
  },
  {
   "cell_type": "markdown",
   "id": "5b178ce0",
   "metadata": {
    "papermill": {
     "duration": 0.028411,
     "end_time": "2021-10-17T05:43:39.094411",
     "exception": false,
     "start_time": "2021-10-17T05:43:39.066000",
     "status": "completed"
    },
    "tags": []
   },
   "source": [
    "<h3>The above calendar map may differ for different type of posts</h3>\n",
    "<p>So we check sum of likes for all months, for each type of post individually</p>"
   ]
  },
  {
   "cell_type": "code",
   "execution_count": 13,
   "id": "bbe9bfda",
   "metadata": {
    "execution": {
     "iopub.execute_input": "2021-10-17T05:43:39.161281Z",
     "iopub.status.busy": "2021-10-17T05:43:39.160326Z",
     "iopub.status.idle": "2021-10-17T05:43:40.168664Z",
     "shell.execute_reply": "2021-10-17T05:43:40.169214Z",
     "shell.execute_reply.started": "2021-10-17T05:20:21.74263Z"
    },
    "papermill": {
     "duration": 1.046131,
     "end_time": "2021-10-17T05:43:40.169408",
     "exception": false,
     "start_time": "2021-10-17T05:43:39.123277",
     "status": "completed"
    },
    "tags": []
   },
   "outputs": [
    {
     "data": {
      "image/png": "[encoded data removed]",
      "text/plain": [
       "<Figure size 1440x1440 with 4 Axes>"
      ]
     },
     "metadata": {
      "needs_background": "light"
     },
     "output_type": "display_data"
    }
   ],
   "source": [
    "fig, ax = plt.subplots(4, 1, figsize=(20, 20))\n",
    "months=df.Month.unique()\n",
    "sns.barplot(x=months, y=df.groupby('Month')['Likes'].mean(), ax=ax[0], color='black')\n",
    "ax[0].title.set_text('Sum likes by months')\n",
    "\n",
    "sns.barplot(x=months, y=df.query(\"Type == 'Image'\").groupby('Month')['Likes'].mean(), ax=ax[1], color=\"grey\")\n",
    "ax[1].title.set_text('Sum likes by months for Image')\n",
    "\n",
    "sns.barplot(x=months, y=df.query(\"Type == 'Images'\").groupby('Month')['Likes'].mean(), ax=ax[2], color=\"green\")\n",
    "ax[2].title.set_text('Sum likes by months for Images')\n",
    "\n",
    "sns.barplot(x=months, y=df.query(\"Type == 'Video'\").groupby('Month')['Likes'].mean(), ax=ax[3], color=\"brown\")\n",
    "ax[3].title.set_text('Sum likes by months for Video')"
   ]
  },
  {
   "cell_type": "markdown",
   "id": "f7fe8604",
   "metadata": {
    "papermill": {
     "duration": 0.030076,
     "end_time": "2021-10-17T05:43:40.230144",
     "exception": false,
     "start_time": "2021-10-17T05:43:40.200068",
     "status": "completed"
    },
    "tags": []
   },
   "source": [
    "<h1>The dataset has no null values and hence no more cleaning of data is required</h1>"
   ]
  },
  {
   "cell_type": "code",
   "execution_count": 14,
   "id": "e0d8cf82",
   "metadata": {
    "execution": {
     "iopub.execute_input": "2021-10-17T05:43:40.294993Z",
     "iopub.status.busy": "2021-10-17T05:43:40.294320Z",
     "iopub.status.idle": "2021-10-17T05:43:40.363413Z",
     "shell.execute_reply": "2021-10-17T05:43:40.363879Z",
     "shell.execute_reply.started": "2021-10-17T05:20:24.901368Z"
    },
    "papermill": {
     "duration": 0.103833,
     "end_time": "2021-10-17T05:43:40.364057",
     "exception": false,
     "start_time": "2021-10-17T05:43:40.260224",
     "status": "completed"
    },
    "tags": []
   },
   "outputs": [
    {
     "data": {
      "text/plain": [
       "User uuid                False\n",
       "Likes                    False\n",
       "Days passed from post    False\n",
       "Likes Score              False\n",
       "Type                     False\n",
       "Numer of Tags            False\n",
       "Numer of Comments        False\n",
       "Date Posted              False\n",
       "Year                     False\n",
       "Month                    False\n",
       "Day                      False\n",
       "Hour                     False\n",
       "Minute                   False\n",
       "Day_of_week              False\n",
       "dtype: bool"
      ]
     },
     "execution_count": 14,
     "metadata": {},
     "output_type": "execute_result"
    }
   ],
   "source": [
    "df.isnull().any()"
   ]
  },
  {
   "cell_type": "markdown",
   "id": "1abd09af",
   "metadata": {
    "papermill": {
     "duration": 0.030905,
     "end_time": "2021-10-17T05:43:40.425955",
     "exception": false,
     "start_time": "2021-10-17T05:43:40.395050",
     "status": "completed"
    },
    "tags": []
   },
   "source": [
    "<h1>Scatter plots are done to see correlation between different attributes and target variable</h1>"
   ]
  },
  {
   "cell_type": "code",
   "execution_count": 15,
   "id": "1e111266",
   "metadata": {
    "execution": {
     "iopub.execute_input": "2021-10-17T05:43:40.517197Z",
     "iopub.status.busy": "2021-10-17T05:43:40.516026Z",
     "iopub.status.idle": "2021-10-17T05:43:41.423142Z",
     "shell.execute_reply": "2021-10-17T05:43:41.423667Z",
     "shell.execute_reply.started": "2021-10-17T05:20:24.936078Z"
    },
    "papermill": {
     "duration": 0.966831,
     "end_time": "2021-10-17T05:43:41.423843",
     "exception": false,
     "start_time": "2021-10-17T05:43:40.457012",
     "status": "completed"
    },
    "tags": []
   },
   "outputs": [
    {
     "data": {
      "text/plain": [
       "Text(0, 0.5, 'Comments')"
      ]
     },
     "execution_count": 15,
     "metadata": {},
     "output_type": "execute_result"
    },
    {
     "data": {
      "image/png": "[encoded data removed]",
      "text/plain": [
       "<Figure size 432x288 with 1 Axes>"
      ]
     },
     "metadata": {
      "needs_background": "light"
     },
     "output_type": "display_data"
    }
   ],
   "source": [
    "plt.scatter(df.Likes, df['Numer of Comments'])\n",
    "plt.plot(np.unique(df.Likes), \n",
    "         np.poly1d(np.polyfit(df.Likes, df['Numer of Comments'], 1))\n",
    "         (np.unique(df.Likes)), color='red')\n",
    "plt.xlabel('Likes')\n",
    "plt.ylabel('Comments')"
   ]
  },
  {
   "cell_type": "code",
   "execution_count": null,
   "id": "75e6757e",
   "metadata": {
    "papermill": {
     "duration": 0.031811,
     "end_time": "2021-10-17T05:43:41.488504",
     "exception": false,
     "start_time": "2021-10-17T05:43:41.456693",
     "status": "completed"
    },
    "tags": []
   },
   "outputs": [],
   "source": []
  }
 ],
 "metadata": {
  "kernelspec": {
   "display_name": "Python 3",
   "language": "python",
   "name": "python3"
  },
  "language_info": {
   "codemirror_mode": {
    "name": "ipython",
    "version": 3
   },
   "file_extension": ".py",
   "mimetype": "text/x-python",
   "name": "python",
   "nbconvert_exporter": "python",
   "pygments_lexer": "ipython3",
   "version": "3.7.10"
  },
  "papermill": {
   "default_parameters": {},
   "duration": 33.23097,
   "end_time": "2021-10-17T05:43:42.232832",
   "environment_variables": {},
   "exception": null,
   "input_path": "__notebook__.ipynb",
   "output_path": "__notebook__.ipynb",
   "parameters": {},
   "start_time": "2021-10-17T05:43:09.001862",
   "version": "2.3.3"
  }
 },
 "nbformat": 4,
 "nbformat_minor": 5
}

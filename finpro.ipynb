{
 "cells": [
  {
   "cell_type": "code",
   "execution_count": 1,
   "id": "49290387",
   "metadata": {
    "_cell_guid": "b1076dfc-b9ad-4769-8c92-a6c4dae69d19",
    "_uuid": "8f2839f25d086af736a60e9eeb907d3b93b6e0e5",
    "execution": {
     "iopub.execute_input": "2021-12-04T10:29:09.838648Z",
     "iopub.status.busy": "2021-12-04T10:29:09.837670Z",
     "iopub.status.idle": "2021-12-04T10:29:09.856431Z",
     "shell.execute_reply": "2021-12-04T10:29:09.856942Z",
     "shell.execute_reply.started": "2021-12-04T10:18:34.624668Z"
    },
    "papermill": {
     "duration": 0.036127,
     "end_time": "2021-12-04T10:29:09.857274",
     "exception": false,
     "start_time": "2021-12-04T10:29:09.821147",
     "status": "completed"
    },
    "tags": []
   },
   "outputs": [
    {
     "name": "stdout",
     "output_type": "stream",
     "text": [
      "/kaggle/input/1100-instagram-users-datetime-posts-data/Instagram_Data.csv\n"
     ]
    }
   ],
   "source": [
    "# This Python 3 environment comes with many helpful analytics libraries installed\n",
    "# It is defined by the kaggle/python Docker image: https://github.com/kaggle/docker-python\n",
    "# For example, here's several helpful packages to load\n",
    "\n",
    "import numpy as np # linear algebra\n",
    "import pandas as pd # data processing, CSV file I/O (e.g. pd.read_csv)\n",
    "\n",
    "# Input data files are available in the read-only \"../input/\" directory\n",
    "# For example, running this (by clicking run or pressing Shift+Enter) will list all files under the input directory\n",
    "\n",
    "import os\n",
    "for dirname, _, filenames in os.walk('/kaggle/input'):\n",
    "    for filename in filenames:\n",
    "        print(os.path.join(dirname, filename))\n",
    "\n",
    "# You can write up to 20GB to the current directory (/kaggle/working/) that gets preserved as output when you create a version using \"Save & Run All\" \n",
    "# You can also write temporary files to /kaggle/temp/, but they won't be saved outside of the current session"
   ]
  },
  {
   "cell_type": "code",
   "execution_count": 2,
   "id": "2f9964fa",
   "metadata": {
    "execution": {
     "iopub.execute_input": "2021-12-04T10:29:09.877651Z",
     "iopub.status.busy": "2021-12-04T10:29:09.876823Z",
     "iopub.status.idle": "2021-12-04T10:29:10.383335Z",
     "shell.execute_reply": "2021-12-04T10:29:10.383801Z",
     "shell.execute_reply.started": "2021-12-04T10:18:34.662358Z"
    },
    "papermill": {
     "duration": 0.518891,
     "end_time": "2021-12-04T10:29:10.383975",
     "exception": false,
     "start_time": "2021-12-04T10:29:09.865084",
     "status": "completed"
    },
    "tags": []
   },
   "outputs": [
    {
     "data": {
      "text/html": [
       "<div>\n",
       "<style scoped>\n",
       "    .dataframe tbody tr th:only-of-type {\n",
       "        vertical-align: middle;\n",
       "    }\n",
       "\n",
       "    .dataframe tbody tr th {\n",
       "        vertical-align: top;\n",
       "    }\n",
       "\n",
       "    .dataframe thead th {\n",
       "        text-align: right;\n",
       "    }\n",
       "</style>\n",
       "<table border=\"1\" class=\"dataframe\">\n",
       "  <thead>\n",
       "    <tr style=\"text-align: right;\">\n",
       "      <th></th>\n",
       "      <th>User uuid</th>\n",
       "      <th>Likes</th>\n",
       "      <th>Days passed from post</th>\n",
       "      <th>Likes Score</th>\n",
       "      <th>Type</th>\n",
       "      <th>Numer of Tags</th>\n",
       "      <th>Numer of Comments</th>\n",
       "      <th>Date Posted</th>\n",
       "      <th>Year</th>\n",
       "      <th>Month</th>\n",
       "      <th>Day</th>\n",
       "      <th>Hour</th>\n",
       "      <th>Minute</th>\n",
       "    </tr>\n",
       "  </thead>\n",
       "  <tbody>\n",
       "    <tr>\n",
       "      <th>0</th>\n",
       "      <td>1</td>\n",
       "      <td>506</td>\n",
       "      <td>657</td>\n",
       "      <td>0.74</td>\n",
       "      <td>Image</td>\n",
       "      <td>3</td>\n",
       "      <td>11</td>\n",
       "      <td>2019-05-12 21:18:39</td>\n",
       "      <td>2019</td>\n",
       "      <td>5</td>\n",
       "      <td>12</td>\n",
       "      <td>21</td>\n",
       "      <td>18</td>\n",
       "    </tr>\n",
       "    <tr>\n",
       "      <th>1</th>\n",
       "      <td>1</td>\n",
       "      <td>385</td>\n",
       "      <td>657</td>\n",
       "      <td>0.57</td>\n",
       "      <td>Image</td>\n",
       "      <td>0</td>\n",
       "      <td>1</td>\n",
       "      <td>2019-05-12 14:25:55</td>\n",
       "      <td>2019</td>\n",
       "      <td>5</td>\n",
       "      <td>12</td>\n",
       "      <td>14</td>\n",
       "      <td>25</td>\n",
       "    </tr>\n",
       "    <tr>\n",
       "      <th>2</th>\n",
       "      <td>1</td>\n",
       "      <td>373</td>\n",
       "      <td>666</td>\n",
       "      <td>0.55</td>\n",
       "      <td>Images</td>\n",
       "      <td>4</td>\n",
       "      <td>15</td>\n",
       "      <td>2019-05-03 15:18:37</td>\n",
       "      <td>2019</td>\n",
       "      <td>5</td>\n",
       "      <td>3</td>\n",
       "      <td>15</td>\n",
       "      <td>18</td>\n",
       "    </tr>\n",
       "    <tr>\n",
       "      <th>3</th>\n",
       "      <td>1</td>\n",
       "      <td>312</td>\n",
       "      <td>667</td>\n",
       "      <td>0.46</td>\n",
       "      <td>Images</td>\n",
       "      <td>4</td>\n",
       "      <td>1</td>\n",
       "      <td>2019-05-02 16:40:38</td>\n",
       "      <td>2019</td>\n",
       "      <td>5</td>\n",
       "      <td>2</td>\n",
       "      <td>16</td>\n",
       "      <td>40</td>\n",
       "    </tr>\n",
       "    <tr>\n",
       "      <th>4</th>\n",
       "      <td>1</td>\n",
       "      <td>513</td>\n",
       "      <td>674</td>\n",
       "      <td>0.75</td>\n",
       "      <td>Images</td>\n",
       "      <td>5</td>\n",
       "      <td>0</td>\n",
       "      <td>2019-04-25 16:51:58</td>\n",
       "      <td>2019</td>\n",
       "      <td>4</td>\n",
       "      <td>25</td>\n",
       "      <td>16</td>\n",
       "      <td>51</td>\n",
       "    </tr>\n",
       "    <tr>\n",
       "      <th>...</th>\n",
       "      <td>...</td>\n",
       "      <td>...</td>\n",
       "      <td>...</td>\n",
       "      <td>...</td>\n",
       "      <td>...</td>\n",
       "      <td>...</td>\n",
       "      <td>...</td>\n",
       "      <td>...</td>\n",
       "      <td>...</td>\n",
       "      <td>...</td>\n",
       "      <td>...</td>\n",
       "      <td>...</td>\n",
       "      <td>...</td>\n",
       "    </tr>\n",
       "    <tr>\n",
       "      <th>178917</th>\n",
       "      <td>1089</td>\n",
       "      <td>9</td>\n",
       "      <td>821</td>\n",
       "      <td>0.07</td>\n",
       "      <td>Image</td>\n",
       "      <td>0</td>\n",
       "      <td>1</td>\n",
       "      <td>2018-11-29 14:40:11</td>\n",
       "      <td>2018</td>\n",
       "      <td>11</td>\n",
       "      <td>29</td>\n",
       "      <td>14</td>\n",
       "      <td>40</td>\n",
       "    </tr>\n",
       "    <tr>\n",
       "      <th>178918</th>\n",
       "      <td>1089</td>\n",
       "      <td>3</td>\n",
       "      <td>822</td>\n",
       "      <td>0.02</td>\n",
       "      <td>Image</td>\n",
       "      <td>3</td>\n",
       "      <td>0</td>\n",
       "      <td>2018-11-28 20:59:19</td>\n",
       "      <td>2018</td>\n",
       "      <td>11</td>\n",
       "      <td>28</td>\n",
       "      <td>20</td>\n",
       "      <td>59</td>\n",
       "    </tr>\n",
       "    <tr>\n",
       "      <th>178919</th>\n",
       "      <td>1089</td>\n",
       "      <td>2</td>\n",
       "      <td>822</td>\n",
       "      <td>0.01</td>\n",
       "      <td>Image</td>\n",
       "      <td>0</td>\n",
       "      <td>0</td>\n",
       "      <td>2018-11-28 16:27:32</td>\n",
       "      <td>2018</td>\n",
       "      <td>11</td>\n",
       "      <td>28</td>\n",
       "      <td>16</td>\n",
       "      <td>27</td>\n",
       "    </tr>\n",
       "    <tr>\n",
       "      <th>178920</th>\n",
       "      <td>1089</td>\n",
       "      <td>14</td>\n",
       "      <td>822</td>\n",
       "      <td>0.10</td>\n",
       "      <td>Image</td>\n",
       "      <td>0</td>\n",
       "      <td>2</td>\n",
       "      <td>2018-11-28 14:37:13</td>\n",
       "      <td>2018</td>\n",
       "      <td>11</td>\n",
       "      <td>28</td>\n",
       "      <td>14</td>\n",
       "      <td>37</td>\n",
       "    </tr>\n",
       "    <tr>\n",
       "      <th>178921</th>\n",
       "      <td>1089</td>\n",
       "      <td>9</td>\n",
       "      <td>823</td>\n",
       "      <td>0.07</td>\n",
       "      <td>Image</td>\n",
       "      <td>0</td>\n",
       "      <td>0</td>\n",
       "      <td>2018-11-27 14:27:42</td>\n",
       "      <td>2018</td>\n",
       "      <td>11</td>\n",
       "      <td>27</td>\n",
       "      <td>14</td>\n",
       "      <td>27</td>\n",
       "    </tr>\n",
       "  </tbody>\n",
       "</table>\n",
       "<p>178922 rows × 13 columns</p>\n",
       "</div>"
      ],
      "text/plain": [
       "        User uuid  Likes  Days passed from post  Likes Score    Type  \\\n",
       "0               1    506                    657         0.74   Image   \n",
       "1               1    385                    657         0.57   Image   \n",
       "2               1    373                    666         0.55  Images   \n",
       "3               1    312                    667         0.46  Images   \n",
       "4               1    513                    674         0.75  Images   \n",
       "...           ...    ...                    ...          ...     ...   \n",
       "178917       1089      9                    821         0.07   Image   \n",
       "178918       1089      3                    822         0.02   Image   \n",
       "178919       1089      2                    822         0.01   Image   \n",
       "178920       1089     14                    822         0.10   Image   \n",
       "178921       1089      9                    823         0.07   Image   \n",
       "\n",
       "        Numer of Tags  Numer of Comments          Date Posted  Year  Month  \\\n",
       "0                   3                 11  2019-05-12 21:18:39  2019      5   \n",
       "1                   0                  1  2019-05-12 14:25:55  2019      5   \n",
       "2                   4                 15  2019-05-03 15:18:37  2019      5   \n",
       "3                   4                  1  2019-05-02 16:40:38  2019      5   \n",
       "4                   5                  0  2019-04-25 16:51:58  2019      4   \n",
       "...               ...                ...                  ...   ...    ...   \n",
       "178917              0                  1  2018-11-29 14:40:11  2018     11   \n",
       "178918              3                  0  2018-11-28 20:59:19  2018     11   \n",
       "178919              0                  0  2018-11-28 16:27:32  2018     11   \n",
       "178920              0                  2  2018-11-28 14:37:13  2018     11   \n",
       "178921              0                  0  2018-11-27 14:27:42  2018     11   \n",
       "\n",
       "        Day  Hour  Minute  \n",
       "0        12    21      18  \n",
       "1        12    14      25  \n",
       "2         3    15      18  \n",
       "3         2    16      40  \n",
       "4        25    16      51  \n",
       "...     ...   ...     ...  \n",
       "178917   29    14      40  \n",
       "178918   28    20      59  \n",
       "178919   28    16      27  \n",
       "178920   28    14      37  \n",
       "178921   27    14      27  \n",
       "\n",
       "[178922 rows x 13 columns]"
      ]
     },
     "execution_count": 2,
     "metadata": {},
     "output_type": "execute_result"
    }
   ],
   "source": [
    "df=pd.read_csv('../input/1100-instagram-users-datetime-posts-data/Instagram_Data.csv')\n",
    "df"
   ]
  },
  {
   "cell_type": "code",
   "execution_count": 3,
   "id": "b447f7cf",
   "metadata": {
    "execution": {
     "iopub.execute_input": "2021-12-04T10:29:10.405776Z",
     "iopub.status.busy": "2021-12-04T10:29:10.404896Z",
     "iopub.status.idle": "2021-12-04T10:29:12.306431Z",
     "shell.execute_reply": "2021-12-04T10:29:12.305863Z",
     "shell.execute_reply.started": "2021-12-04T10:18:35.149784Z"
    },
    "papermill": {
     "duration": 1.914535,
     "end_time": "2021-12-04T10:29:12.306584",
     "exception": false,
     "start_time": "2021-12-04T10:29:10.392049",
     "status": "completed"
    },
    "tags": []
   },
   "outputs": [
    {
     "data": {
      "text/plain": [
       "<AxesSubplot:xlabel='Hour', ylabel='Density'>"
      ]
     },
     "execution_count": 3,
     "metadata": {},
     "output_type": "execute_result"
    },
    {
     "data": {
      "image/png": "[encoded data removed]",
      "text/plain": [
       "<Figure size 432x288 with 1 Axes>"
      ]
     },
     "metadata": {
      "needs_background": "light"
     },
     "output_type": "display_data"
    }
   ],
   "source": [
    "import seaborn as sns\n",
    "import matplotlib.pyplot as plt\n",
    "sns.kdeplot(df['Hour'], color='b', shade=True)"
   ]
  },
  {
   "cell_type": "code",
   "execution_count": 4,
   "id": "07aefe21",
   "metadata": {
    "execution": {
     "iopub.execute_input": "2021-12-04T10:29:12.329364Z",
     "iopub.status.busy": "2021-12-04T10:29:12.328362Z",
     "iopub.status.idle": "2021-12-04T10:29:12.522947Z",
     "shell.execute_reply": "2021-12-04T10:29:12.522321Z",
     "shell.execute_reply.started": "2021-12-04T10:18:37.015613Z"
    },
    "papermill": {
     "duration": 0.207155,
     "end_time": "2021-12-04T10:29:12.523095",
     "exception": false,
     "start_time": "2021-12-04T10:29:12.315940",
     "status": "completed"
    },
    "tags": []
   },
   "outputs": [],
   "source": [
    "from sklearn.model_selection import train_test_split\n",
    "exampledf=df.loc[df['User uuid']==2]\n",
    "train, test = train_test_split(exampledf, test_size=0.2)"
   ]
  },
  {
   "cell_type": "code",
   "execution_count": 5,
   "id": "6a6d533b",
   "metadata": {
    "execution": {
     "iopub.execute_input": "2021-12-04T10:29:12.546369Z",
     "iopub.status.busy": "2021-12-04T10:29:12.545592Z",
     "iopub.status.idle": "2021-12-04T10:29:12.792229Z",
     "shell.execute_reply": "2021-12-04T10:29:12.791669Z",
     "shell.execute_reply.started": "2021-12-04T10:18:37.195434Z"
    },
    "papermill": {
     "duration": 0.259071,
     "end_time": "2021-12-04T10:29:12.792376",
     "exception": false,
     "start_time": "2021-12-04T10:29:12.533305",
     "status": "completed"
    },
    "tags": []
   },
   "outputs": [
    {
     "data": {
      "text/plain": [
       "<AxesSubplot:xlabel='Hour', ylabel='Density'>"
      ]
     },
     "execution_count": 5,
     "metadata": {},
     "output_type": "execute_result"
    },
    {
     "data": {
      "image/png": "[encoded data removed]",
      "text/plain": [
       "<Figure size 432x288 with 1 Axes>"
      ]
     },
     "metadata": {
      "needs_background": "light"
     },
     "output_type": "display_data"
    }
   ],
   "source": [
    "import seaborn as sns\n",
    "import matplotlib.pyplot as plt\n",
    "sns.kdeplot(train['Hour'], color='b', shade=True)"
   ]
  },
  {
   "cell_type": "code",
   "execution_count": 6,
   "id": "94875fa0",
   "metadata": {
    "execution": {
     "iopub.execute_input": "2021-12-04T10:29:12.823193Z",
     "iopub.status.busy": "2021-12-04T10:29:12.822503Z",
     "iopub.status.idle": "2021-12-04T10:29:13.450824Z",
     "shell.execute_reply": "2021-12-04T10:29:13.451387Z",
     "shell.execute_reply.started": "2021-12-04T10:26:33.724138Z"
    },
    "papermill": {
     "duration": 0.648622,
     "end_time": "2021-12-04T10:29:13.451568",
     "exception": false,
     "start_time": "2021-12-04T10:29:12.802946",
     "status": "completed"
    },
    "tags": []
   },
   "outputs": [
    {
     "name": "stdout",
     "output_type": "stream",
     "text": [
      "Linear / 0.0008713314832295958 / 0.029518324532899827 / 0.13897878579327055\n",
      "TheilSen / 0.0009030769530949632 / 0.03005123879468138 / 0.14038969278573002\n",
      "Ridge / 0.0008713237355091567 / 0.029518193296832324 / 0.13897865136772666\n",
      "Lasso / 0.0008444118112890501 / 0.029058764792899407 / 0.1384023668639053\n"
     ]
    }
   ],
   "source": [
    "from sklearn.linear_model import LinearRegression\n",
    "from sklearn.linear_model import Ridge\n",
    "from sklearn.linear_model import TheilSenRegressor\n",
    "from sklearn.linear_model import Lasso\n",
    "from sklearn.metrics import mean_squared_error\n",
    "from sklearn import metrics\n",
    "import math\n",
    "models = dict()\n",
    "models['Linear'] = LinearRegression()\n",
    "models['TheilSen'] = TheilSenRegressor()\n",
    "models['Ridge'] = Ridge()\n",
    "models['Lasso'] = Lasso()\n",
    "for name, model in models.items():\n",
    "    model.fit(train[['Month','Day','Hour']],train['Likes Score'])\n",
    "    predres=model.predict(test[['Month','Day','Hour']])\n",
    "    rms = mean_squared_error(test['Likes Score'], predres, squared=True)\n",
    "    mae=metrics.mean_absolute_error(test['Likes Score'], predres)\n",
    "    mse=rms**2\n",
    "    print(name,'/',mse,'/',rms,'/',mae)"
   ]
  },
  {
   "cell_type": "code",
   "execution_count": null,
   "id": "b9b4de54",
   "metadata": {
    "papermill": {
     "duration": 0.010644,
     "end_time": "2021-12-04T10:29:13.473267",
     "exception": false,
     "start_time": "2021-12-04T10:29:13.462623",
     "status": "completed"
    },
    "tags": []
   },
   "outputs": [],
   "source": []
  }
 ],
 "metadata": {
  "kernelspec": {
   "display_name": "Python 3",
   "language": "python",
   "name": "python3"
  },
  "language_info": {
   "codemirror_mode": {
    "name": "ipython",
    "version": 3
   },
   "file_extension": ".py",
   "mimetype": "text/x-python",
   "name": "python",
   "nbconvert_exporter": "python",
   "pygments_lexer": "ipython3",
   "version": "3.7.12"
  },
  "papermill": {
   "default_parameters": {},
   "duration": 14.389979,
   "end_time": "2021-12-04T10:29:14.194623",
   "environment_variables": {},
   "exception": null,
   "input_path": "__notebook__.ipynb",
   "output_path": "__notebook__.ipynb",
   "parameters": {},
   "start_time": "2021-12-04T10:28:59.804644",
   "version": "2.3.3"
  }
 },
 "nbformat": 4,
 "nbformat_minor": 5
}

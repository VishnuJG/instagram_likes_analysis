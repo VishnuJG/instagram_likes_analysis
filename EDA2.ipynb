{
 "cells": [
  {
   "cell_type": "code",
   "execution_count": 1,
   "id": "6a9aa2e7",
   "metadata": {
    "_cell_guid": "b1076dfc-b9ad-4769-8c92-a6c4dae69d19",
    "_uuid": "8f2839f25d086af736a60e9eeb907d3b93b6e0e5",
    "execution": {
     "iopub.execute_input": "2021-10-15T17:54:46.463284Z",
     "iopub.status.busy": "2021-10-15T17:54:46.462593Z",
     "iopub.status.idle": "2021-10-15T17:54:46.476881Z",
     "shell.execute_reply": "2021-10-15T17:54:46.475970Z",
     "shell.execute_reply.started": "2021-10-15T17:52:40.352231Z"
    },
    "papermill": {
     "duration": 0.042626,
     "end_time": "2021-10-15T17:54:46.477111",
     "exception": false,
     "start_time": "2021-10-15T17:54:46.434485",
     "status": "completed"
    },
    "tags": []
   },
   "outputs": [
    {
     "name": "stdout",
     "output_type": "stream",
     "text": [
      "/kaggle/input/1100-instagram-users-datetime-posts-data/Instagram_Data.csv\n"
     ]
    }
   ],
   "source": [
    "# This Python 3 environment comes with many helpful analytics libraries installed\n",
    "# It is defined by the kaggle/python Docker image: https://github.com/kaggle/docker-python\n",
    "# For example, here's several helpful packages to load\n",
    "\n",
    "import numpy as np # linear algebra\n",
    "import pandas as pd # data processing, CSV file I/O (e.g. pd.read_csv)\n",
    "\n",
    "# Input data files are available in the read-only \"../input/\" directory\n",
    "# For example, running this (by clicking run or pressing Shift+Enter) will list all files under the input directory\n",
    "\n",
    "import os\n",
    "for dirname, _, filenames in os.walk('/kaggle/input'):\n",
    "    for filename in filenames:\n",
    "        print(os.path.join(dirname, filename))\n",
    "\n",
    "# You can write up to 20GB to the current directory (/kaggle/working/) that gets preserved as output when you create a version using \"Save & Run All\" \n",
    "# You can also write temporary files to /kaggle/temp/, but they won't be saved outside of the current session"
   ]
  },
  {
   "cell_type": "markdown",
   "id": "abfddf86",
   "metadata": {
    "papermill": {
     "duration": 0.015056,
     "end_time": "2021-10-15T17:54:46.509212",
     "exception": false,
     "start_time": "2021-10-15T17:54:46.494156",
     "status": "completed"
    },
    "tags": []
   },
   "source": [
    "<h1>Required modules</h1>\n",
    "<i>Here is a list of dependencies used</i>\n",
    "<ul>\n",
    "    <li>pandas</li>\n",
    "    <li>pyplot</li>\n",
    "    <li>numpy</li>\n",
    "    <li>seaborn</li>\n",
    "</ul>\n",
    "    "
   ]
  },
  {
   "cell_type": "code",
   "execution_count": 2,
   "id": "e82fc616",
   "metadata": {
    "execution": {
     "iopub.execute_input": "2021-10-15T17:54:46.544607Z",
     "iopub.status.busy": "2021-10-15T17:54:46.543979Z",
     "iopub.status.idle": "2021-10-15T17:54:47.462827Z",
     "shell.execute_reply": "2021-10-15T17:54:47.462265Z",
     "shell.execute_reply.started": "2021-10-15T17:52:40.369411Z"
    },
    "papermill": {
     "duration": 0.93818,
     "end_time": "2021-10-15T17:54:47.462981",
     "exception": false,
     "start_time": "2021-10-15T17:54:46.524801",
     "status": "completed"
    },
    "tags": []
   },
   "outputs": [],
   "source": [
    "import matplotlib.pyplot as plt\n",
    "import seaborn as sns"
   ]
  },
  {
   "cell_type": "code",
   "execution_count": 3,
   "id": "292222b7",
   "metadata": {
    "execution": {
     "iopub.execute_input": "2021-10-15T17:54:47.500076Z",
     "iopub.status.busy": "2021-10-15T17:54:47.499350Z",
     "iopub.status.idle": "2021-10-15T17:54:47.947730Z",
     "shell.execute_reply": "2021-10-15T17:54:47.946713Z",
     "shell.execute_reply.started": "2021-10-15T17:52:40.381804Z"
    },
    "papermill": {
     "duration": 0.468918,
     "end_time": "2021-10-15T17:54:47.947884",
     "exception": false,
     "start_time": "2021-10-15T17:54:47.478966",
     "status": "completed"
    },
    "tags": []
   },
   "outputs": [
    {
     "data": {
      "text/html": [
       "<div>\n",
       "<style scoped>\n",
       "    .dataframe tbody tr th:only-of-type {\n",
       "        vertical-align: middle;\n",
       "    }\n",
       "\n",
       "    .dataframe tbody tr th {\n",
       "        vertical-align: top;\n",
       "    }\n",
       "\n",
       "    .dataframe thead th {\n",
       "        text-align: right;\n",
       "    }\n",
       "</style>\n",
       "<table border=\"1\" class=\"dataframe\">\n",
       "  <thead>\n",
       "    <tr style=\"text-align: right;\">\n",
       "      <th></th>\n",
       "      <th>User uuid</th>\n",
       "      <th>Likes</th>\n",
       "      <th>Days passed from post</th>\n",
       "      <th>Likes Score</th>\n",
       "      <th>Type</th>\n",
       "      <th>Numer of Tags</th>\n",
       "      <th>Numer of Comments</th>\n",
       "      <th>Date Posted</th>\n",
       "      <th>Year</th>\n",
       "      <th>Month</th>\n",
       "      <th>Day</th>\n",
       "      <th>Hour</th>\n",
       "      <th>Minute</th>\n",
       "    </tr>\n",
       "  </thead>\n",
       "  <tbody>\n",
       "    <tr>\n",
       "      <th>0</th>\n",
       "      <td>1</td>\n",
       "      <td>506</td>\n",
       "      <td>657</td>\n",
       "      <td>0.74</td>\n",
       "      <td>Image</td>\n",
       "      <td>3</td>\n",
       "      <td>11</td>\n",
       "      <td>2019-05-12 21:18:39</td>\n",
       "      <td>2019</td>\n",
       "      <td>5</td>\n",
       "      <td>12</td>\n",
       "      <td>21</td>\n",
       "      <td>18</td>\n",
       "    </tr>\n",
       "    <tr>\n",
       "      <th>1</th>\n",
       "      <td>1</td>\n",
       "      <td>385</td>\n",
       "      <td>657</td>\n",
       "      <td>0.57</td>\n",
       "      <td>Image</td>\n",
       "      <td>0</td>\n",
       "      <td>1</td>\n",
       "      <td>2019-05-12 14:25:55</td>\n",
       "      <td>2019</td>\n",
       "      <td>5</td>\n",
       "      <td>12</td>\n",
       "      <td>14</td>\n",
       "      <td>25</td>\n",
       "    </tr>\n",
       "    <tr>\n",
       "      <th>2</th>\n",
       "      <td>1</td>\n",
       "      <td>373</td>\n",
       "      <td>666</td>\n",
       "      <td>0.55</td>\n",
       "      <td>Images</td>\n",
       "      <td>4</td>\n",
       "      <td>15</td>\n",
       "      <td>2019-05-03 15:18:37</td>\n",
       "      <td>2019</td>\n",
       "      <td>5</td>\n",
       "      <td>3</td>\n",
       "      <td>15</td>\n",
       "      <td>18</td>\n",
       "    </tr>\n",
       "    <tr>\n",
       "      <th>3</th>\n",
       "      <td>1</td>\n",
       "      <td>312</td>\n",
       "      <td>667</td>\n",
       "      <td>0.46</td>\n",
       "      <td>Images</td>\n",
       "      <td>4</td>\n",
       "      <td>1</td>\n",
       "      <td>2019-05-02 16:40:38</td>\n",
       "      <td>2019</td>\n",
       "      <td>5</td>\n",
       "      <td>2</td>\n",
       "      <td>16</td>\n",
       "      <td>40</td>\n",
       "    </tr>\n",
       "    <tr>\n",
       "      <th>4</th>\n",
       "      <td>1</td>\n",
       "      <td>513</td>\n",
       "      <td>674</td>\n",
       "      <td>0.75</td>\n",
       "      <td>Images</td>\n",
       "      <td>5</td>\n",
       "      <td>0</td>\n",
       "      <td>2019-04-25 16:51:58</td>\n",
       "      <td>2019</td>\n",
       "      <td>4</td>\n",
       "      <td>25</td>\n",
       "      <td>16</td>\n",
       "      <td>51</td>\n",
       "    </tr>\n",
       "    <tr>\n",
       "      <th>...</th>\n",
       "      <td>...</td>\n",
       "      <td>...</td>\n",
       "      <td>...</td>\n",
       "      <td>...</td>\n",
       "      <td>...</td>\n",
       "      <td>...</td>\n",
       "      <td>...</td>\n",
       "      <td>...</td>\n",
       "      <td>...</td>\n",
       "      <td>...</td>\n",
       "      <td>...</td>\n",
       "      <td>...</td>\n",
       "      <td>...</td>\n",
       "    </tr>\n",
       "    <tr>\n",
       "      <th>178917</th>\n",
       "      <td>1089</td>\n",
       "      <td>9</td>\n",
       "      <td>821</td>\n",
       "      <td>0.07</td>\n",
       "      <td>Image</td>\n",
       "      <td>0</td>\n",
       "      <td>1</td>\n",
       "      <td>2018-11-29 14:40:11</td>\n",
       "      <td>2018</td>\n",
       "      <td>11</td>\n",
       "      <td>29</td>\n",
       "      <td>14</td>\n",
       "      <td>40</td>\n",
       "    </tr>\n",
       "    <tr>\n",
       "      <th>178918</th>\n",
       "      <td>1089</td>\n",
       "      <td>3</td>\n",
       "      <td>822</td>\n",
       "      <td>0.02</td>\n",
       "      <td>Image</td>\n",
       "      <td>3</td>\n",
       "      <td>0</td>\n",
       "      <td>2018-11-28 20:59:19</td>\n",
       "      <td>2018</td>\n",
       "      <td>11</td>\n",
       "      <td>28</td>\n",
       "      <td>20</td>\n",
       "      <td>59</td>\n",
       "    </tr>\n",
       "    <tr>\n",
       "      <th>178919</th>\n",
       "      <td>1089</td>\n",
       "      <td>2</td>\n",
       "      <td>822</td>\n",
       "      <td>0.01</td>\n",
       "      <td>Image</td>\n",
       "      <td>0</td>\n",
       "      <td>0</td>\n",
       "      <td>2018-11-28 16:27:32</td>\n",
       "      <td>2018</td>\n",
       "      <td>11</td>\n",
       "      <td>28</td>\n",
       "      <td>16</td>\n",
       "      <td>27</td>\n",
       "    </tr>\n",
       "    <tr>\n",
       "      <th>178920</th>\n",
       "      <td>1089</td>\n",
       "      <td>14</td>\n",
       "      <td>822</td>\n",
       "      <td>0.10</td>\n",
       "      <td>Image</td>\n",
       "      <td>0</td>\n",
       "      <td>2</td>\n",
       "      <td>2018-11-28 14:37:13</td>\n",
       "      <td>2018</td>\n",
       "      <td>11</td>\n",
       "      <td>28</td>\n",
       "      <td>14</td>\n",
       "      <td>37</td>\n",
       "    </tr>\n",
       "    <tr>\n",
       "      <th>178921</th>\n",
       "      <td>1089</td>\n",
       "      <td>9</td>\n",
       "      <td>823</td>\n",
       "      <td>0.07</td>\n",
       "      <td>Image</td>\n",
       "      <td>0</td>\n",
       "      <td>0</td>\n",
       "      <td>2018-11-27 14:27:42</td>\n",
       "      <td>2018</td>\n",
       "      <td>11</td>\n",
       "      <td>27</td>\n",
       "      <td>14</td>\n",
       "      <td>27</td>\n",
       "    </tr>\n",
       "  </tbody>\n",
       "</table>\n",
       "<p>178922 rows × 13 columns</p>\n",
       "</div>"
      ],
      "text/plain": [
       "        User uuid  Likes  Days passed from post  Likes Score    Type  \\\n",
       "0               1    506                    657         0.74   Image   \n",
       "1               1    385                    657         0.57   Image   \n",
       "2               1    373                    666         0.55  Images   \n",
       "3               1    312                    667         0.46  Images   \n",
       "4               1    513                    674         0.75  Images   \n",
       "...           ...    ...                    ...          ...     ...   \n",
       "178917       1089      9                    821         0.07   Image   \n",
       "178918       1089      3                    822         0.02   Image   \n",
       "178919       1089      2                    822         0.01   Image   \n",
       "178920       1089     14                    822         0.10   Image   \n",
       "178921       1089      9                    823         0.07   Image   \n",
       "\n",
       "        Numer of Tags  Numer of Comments          Date Posted  Year  Month  \\\n",
       "0                   3                 11  2019-05-12 21:18:39  2019      5   \n",
       "1                   0                  1  2019-05-12 14:25:55  2019      5   \n",
       "2                   4                 15  2019-05-03 15:18:37  2019      5   \n",
       "3                   4                  1  2019-05-02 16:40:38  2019      5   \n",
       "4                   5                  0  2019-04-25 16:51:58  2019      4   \n",
       "...               ...                ...                  ...   ...    ...   \n",
       "178917              0                  1  2018-11-29 14:40:11  2018     11   \n",
       "178918              3                  0  2018-11-28 20:59:19  2018     11   \n",
       "178919              0                  0  2018-11-28 16:27:32  2018     11   \n",
       "178920              0                  2  2018-11-28 14:37:13  2018     11   \n",
       "178921              0                  0  2018-11-27 14:27:42  2018     11   \n",
       "\n",
       "        Day  Hour  Minute  \n",
       "0        12    21      18  \n",
       "1        12    14      25  \n",
       "2         3    15      18  \n",
       "3         2    16      40  \n",
       "4        25    16      51  \n",
       "...     ...   ...     ...  \n",
       "178917   29    14      40  \n",
       "178918   28    20      59  \n",
       "178919   28    16      27  \n",
       "178920   28    14      37  \n",
       "178921   27    14      27  \n",
       "\n",
       "[178922 rows x 13 columns]"
      ]
     },
     "execution_count": 3,
     "metadata": {},
     "output_type": "execute_result"
    }
   ],
   "source": [
    "df=pd.read_csv('../input/1100-instagram-users-datetime-posts-data/Instagram_Data.csv')\n",
    "df"
   ]
  },
  {
   "cell_type": "code",
   "execution_count": 4,
   "id": "82f1d418",
   "metadata": {
    "execution": {
     "iopub.execute_input": "2021-10-15T17:54:47.986882Z",
     "iopub.status.busy": "2021-10-15T17:54:47.986174Z",
     "iopub.status.idle": "2021-10-15T17:54:48.025283Z",
     "shell.execute_reply": "2021-10-15T17:54:48.025797Z",
     "shell.execute_reply.started": "2021-10-15T17:52:40.717251Z"
    },
    "papermill": {
     "duration": 0.061837,
     "end_time": "2021-10-15T17:54:48.025984",
     "exception": false,
     "start_time": "2021-10-15T17:54:47.964147",
     "status": "completed"
    },
    "tags": []
   },
   "outputs": [
    {
     "name": "stdout",
     "output_type": "stream",
     "text": [
      "<class 'pandas.core.frame.DataFrame'>\n",
      "RangeIndex: 178922 entries, 0 to 178921\n",
      "Data columns (total 13 columns):\n",
      " #   Column                 Non-Null Count   Dtype  \n",
      "---  ------                 --------------   -----  \n",
      " 0   User uuid              178922 non-null  int64  \n",
      " 1   Likes                  178922 non-null  int64  \n",
      " 2   Days passed from post  178922 non-null  int64  \n",
      " 3   Likes Score            178922 non-null  float64\n",
      " 4   Type                   178922 non-null  object \n",
      " 5   Numer of Tags          178922 non-null  int64  \n",
      " 6   Numer of Comments      178922 non-null  int64  \n",
      " 7   Date Posted            178922 non-null  object \n",
      " 8   Year                   178922 non-null  int64  \n",
      " 9   Month                  178922 non-null  int64  \n",
      " 10  Day                    178922 non-null  int64  \n",
      " 11  Hour                   178922 non-null  int64  \n",
      " 12  Minute                 178922 non-null  int64  \n",
      "dtypes: float64(1), int64(10), object(2)\n",
      "memory usage: 17.7+ MB\n"
     ]
    }
   ],
   "source": [
    "df.info()"
   ]
  },
  {
   "cell_type": "code",
   "execution_count": 5,
   "id": "94ee53d4",
   "metadata": {
    "execution": {
     "iopub.execute_input": "2021-10-15T17:54:48.069739Z",
     "iopub.status.busy": "2021-10-15T17:54:48.069037Z",
     "iopub.status.idle": "2021-10-15T17:54:48.155255Z",
     "shell.execute_reply": "2021-10-15T17:54:48.154765Z",
     "shell.execute_reply.started": "2021-10-15T17:52:40.776393Z"
    },
    "papermill": {
     "duration": 0.112701,
     "end_time": "2021-10-15T17:54:48.155409",
     "exception": false,
     "start_time": "2021-10-15T17:54:48.042708",
     "status": "completed"
    },
    "tags": []
   },
   "outputs": [
    {
     "data": {
      "text/html": [
       "<div>\n",
       "<style scoped>\n",
       "    .dataframe tbody tr th:only-of-type {\n",
       "        vertical-align: middle;\n",
       "    }\n",
       "\n",
       "    .dataframe tbody tr th {\n",
       "        vertical-align: top;\n",
       "    }\n",
       "\n",
       "    .dataframe thead th {\n",
       "        text-align: right;\n",
       "    }\n",
       "</style>\n",
       "<table border=\"1\" class=\"dataframe\">\n",
       "  <thead>\n",
       "    <tr style=\"text-align: right;\">\n",
       "      <th></th>\n",
       "      <th>User uuid</th>\n",
       "      <th>Likes</th>\n",
       "      <th>Days passed from post</th>\n",
       "      <th>Likes Score</th>\n",
       "      <th>Numer of Tags</th>\n",
       "      <th>Numer of Comments</th>\n",
       "      <th>Year</th>\n",
       "      <th>Month</th>\n",
       "      <th>Day</th>\n",
       "      <th>Hour</th>\n",
       "      <th>Minute</th>\n",
       "    </tr>\n",
       "  </thead>\n",
       "  <tbody>\n",
       "    <tr>\n",
       "      <th>count</th>\n",
       "      <td>178922.000000</td>\n",
       "      <td>1.789220e+05</td>\n",
       "      <td>178922.000000</td>\n",
       "      <td>178922.000000</td>\n",
       "      <td>178922.000000</td>\n",
       "      <td>1.789220e+05</td>\n",
       "      <td>178922.000000</td>\n",
       "      <td>178922.000000</td>\n",
       "      <td>178922.000000</td>\n",
       "      <td>178922.000000</td>\n",
       "      <td>178922.000000</td>\n",
       "    </tr>\n",
       "    <tr>\n",
       "      <th>mean</th>\n",
       "      <td>546.316948</td>\n",
       "      <td>4.298806e+04</td>\n",
       "      <td>447.477510</td>\n",
       "      <td>0.270961</td>\n",
       "      <td>3.578045</td>\n",
       "      <td>5.622285e+02</td>\n",
       "      <td>2019.412107</td>\n",
       "      <td>6.764814</td>\n",
       "      <td>15.694219</td>\n",
       "      <td>13.396435</td>\n",
       "      <td>28.741737</td>\n",
       "    </tr>\n",
       "    <tr>\n",
       "      <th>std</th>\n",
       "      <td>317.200142</td>\n",
       "      <td>2.604648e+05</td>\n",
       "      <td>492.620418</td>\n",
       "      <td>0.210007</td>\n",
       "      <td>6.877008</td>\n",
       "      <td>1.201380e+04</td>\n",
       "      <td>1.374731</td>\n",
       "      <td>3.753390</td>\n",
       "      <td>8.824645</td>\n",
       "      <td>7.385343</td>\n",
       "      <td>17.678904</td>\n",
       "    </tr>\n",
       "    <tr>\n",
       "      <th>min</th>\n",
       "      <td>1.000000</td>\n",
       "      <td>0.000000e+00</td>\n",
       "      <td>0.000000</td>\n",
       "      <td>0.000000</td>\n",
       "      <td>0.000000</td>\n",
       "      <td>0.000000e+00</td>\n",
       "      <td>2010.000000</td>\n",
       "      <td>1.000000</td>\n",
       "      <td>1.000000</td>\n",
       "      <td>0.000000</td>\n",
       "      <td>0.000000</td>\n",
       "    </tr>\n",
       "    <tr>\n",
       "      <th>25%</th>\n",
       "      <td>273.000000</td>\n",
       "      <td>1.340000e+02</td>\n",
       "      <td>107.000000</td>\n",
       "      <td>0.100000</td>\n",
       "      <td>0.000000</td>\n",
       "      <td>4.000000e+00</td>\n",
       "      <td>2019.000000</td>\n",
       "      <td>3.000000</td>\n",
       "      <td>8.000000</td>\n",
       "      <td>7.000000</td>\n",
       "      <td>13.000000</td>\n",
       "    </tr>\n",
       "    <tr>\n",
       "      <th>50%</th>\n",
       "      <td>540.000000</td>\n",
       "      <td>1.064000e+03</td>\n",
       "      <td>260.000000</td>\n",
       "      <td>0.220000</td>\n",
       "      <td>0.000000</td>\n",
       "      <td>2.300000e+01</td>\n",
       "      <td>2020.000000</td>\n",
       "      <td>7.000000</td>\n",
       "      <td>16.000000</td>\n",
       "      <td>16.000000</td>\n",
       "      <td>29.000000</td>\n",
       "    </tr>\n",
       "    <tr>\n",
       "      <th>75%</th>\n",
       "      <td>829.000000</td>\n",
       "      <td>1.074300e+04</td>\n",
       "      <td>612.000000</td>\n",
       "      <td>0.390000</td>\n",
       "      <td>3.000000</td>\n",
       "      <td>1.357500e+02</td>\n",
       "      <td>2020.000000</td>\n",
       "      <td>10.000000</td>\n",
       "      <td>23.000000</td>\n",
       "      <td>20.000000</td>\n",
       "      <td>44.000000</td>\n",
       "    </tr>\n",
       "    <tr>\n",
       "      <th>max</th>\n",
       "      <td>1089.000000</td>\n",
       "      <td>1.544569e+07</td>\n",
       "      <td>3775.000000</td>\n",
       "      <td>1.000000</td>\n",
       "      <td>31.000000</td>\n",
       "      <td>2.907644e+06</td>\n",
       "      <td>2021.000000</td>\n",
       "      <td>12.000000</td>\n",
       "      <td>31.000000</td>\n",
       "      <td>23.000000</td>\n",
       "      <td>59.000000</td>\n",
       "    </tr>\n",
       "  </tbody>\n",
       "</table>\n",
       "</div>"
      ],
      "text/plain": [
       "           User uuid         Likes  Days passed from post    Likes Score  \\\n",
       "count  178922.000000  1.789220e+05          178922.000000  178922.000000   \n",
       "mean      546.316948  4.298806e+04             447.477510       0.270961   \n",
       "std       317.200142  2.604648e+05             492.620418       0.210007   \n",
       "min         1.000000  0.000000e+00               0.000000       0.000000   \n",
       "25%       273.000000  1.340000e+02             107.000000       0.100000   \n",
       "50%       540.000000  1.064000e+03             260.000000       0.220000   \n",
       "75%       829.000000  1.074300e+04             612.000000       0.390000   \n",
       "max      1089.000000  1.544569e+07            3775.000000       1.000000   \n",
       "\n",
       "       Numer of Tags  Numer of Comments           Year          Month  \\\n",
       "count  178922.000000       1.789220e+05  178922.000000  178922.000000   \n",
       "mean        3.578045       5.622285e+02    2019.412107       6.764814   \n",
       "std         6.877008       1.201380e+04       1.374731       3.753390   \n",
       "min         0.000000       0.000000e+00    2010.000000       1.000000   \n",
       "25%         0.000000       4.000000e+00    2019.000000       3.000000   \n",
       "50%         0.000000       2.300000e+01    2020.000000       7.000000   \n",
       "75%         3.000000       1.357500e+02    2020.000000      10.000000   \n",
       "max        31.000000       2.907644e+06    2021.000000      12.000000   \n",
       "\n",
       "                 Day           Hour         Minute  \n",
       "count  178922.000000  178922.000000  178922.000000  \n",
       "mean       15.694219      13.396435      28.741737  \n",
       "std         8.824645       7.385343      17.678904  \n",
       "min         1.000000       0.000000       0.000000  \n",
       "25%         8.000000       7.000000      13.000000  \n",
       "50%        16.000000      16.000000      29.000000  \n",
       "75%        23.000000      20.000000      44.000000  \n",
       "max        31.000000      23.000000      59.000000  "
      ]
     },
     "execution_count": 5,
     "metadata": {},
     "output_type": "execute_result"
    }
   ],
   "source": [
    "df.describe()"
   ]
  },
  {
   "cell_type": "code",
   "execution_count": 6,
   "id": "3605cb2c",
   "metadata": {
    "execution": {
     "iopub.execute_input": "2021-10-15T17:54:48.207646Z",
     "iopub.status.busy": "2021-10-15T17:54:48.206819Z",
     "iopub.status.idle": "2021-10-15T17:54:49.013002Z",
     "shell.execute_reply": "2021-10-15T17:54:49.013448Z",
     "shell.execute_reply.started": "2021-10-15T17:52:40.869181Z"
    },
    "papermill": {
     "duration": 0.840987,
     "end_time": "2021-10-15T17:54:49.013624",
     "exception": false,
     "start_time": "2021-10-15T17:54:48.172637",
     "status": "completed"
    },
    "tags": []
   },
   "outputs": [
    {
     "data": {
      "text/plain": [
       "<matplotlib.collections.PathCollection at 0x7fddbc54fdd0>"
      ]
     },
     "execution_count": 6,
     "metadata": {},
     "output_type": "execute_result"
    },
    {
     "data": {
      "image/png": "[encoded data removed]",
      "text/plain": [
       "<Figure size 432x288 with 1 Axes>"
      ]
     },
     "metadata": {
      "needs_background": "light"
     },
     "output_type": "display_data"
    }
   ],
   "source": [
    "plt.scatter(df.Year,df['Likes Score'])"
   ]
  },
  {
   "cell_type": "code",
   "execution_count": 7,
   "id": "3bfb2fe0",
   "metadata": {
    "execution": {
     "iopub.execute_input": "2021-10-15T17:54:49.055377Z",
     "iopub.status.busy": "2021-10-15T17:54:49.051818Z",
     "iopub.status.idle": "2021-10-15T17:54:49.908287Z",
     "shell.execute_reply": "2021-10-15T17:54:49.908767Z",
     "shell.execute_reply.started": "2021-10-15T17:52:41.682255Z"
    },
    "papermill": {
     "duration": 0.877428,
     "end_time": "2021-10-15T17:54:49.908927",
     "exception": false,
     "start_time": "2021-10-15T17:54:49.031499",
     "status": "completed"
    },
    "tags": []
   },
   "outputs": [
    {
     "data": {
      "text/plain": [
       "<matplotlib.collections.PathCollection at 0x7fddbc454890>"
      ]
     },
     "execution_count": 7,
     "metadata": {},
     "output_type": "execute_result"
    },
    {
     "data": {
      "image/png": "[encoded data removed]",
      "text/plain": [
       "<Figure size 432x288 with 1 Axes>"
      ]
     },
     "metadata": {
      "needs_background": "light"
     },
     "output_type": "display_data"
    }
   ],
   "source": [
    "plt.scatter(df.Month, df['Likes Score'])"
   ]
  },
  {
   "cell_type": "code",
   "execution_count": 8,
   "id": "dc8180fc",
   "metadata": {
    "execution": {
     "iopub.execute_input": "2021-10-15T17:54:49.949136Z",
     "iopub.status.busy": "2021-10-15T17:54:49.948235Z",
     "iopub.status.idle": "2021-10-15T17:54:50.712670Z",
     "shell.execute_reply": "2021-10-15T17:54:50.713081Z",
     "shell.execute_reply.started": "2021-10-15T17:52:42.473737Z"
    },
    "papermill": {
     "duration": 0.786263,
     "end_time": "2021-10-15T17:54:50.713263",
     "exception": false,
     "start_time": "2021-10-15T17:54:49.927000",
     "status": "completed"
    },
    "tags": []
   },
   "outputs": [
    {
     "data": {
      "text/plain": [
       "<matplotlib.collections.PathCollection at 0x7fddbc404410>"
      ]
     },
     "execution_count": 8,
     "metadata": {},
     "output_type": "execute_result"
    },
    {
     "data": {
      "image/png": "[encoded data removed]",
      "text/plain": [
       "<Figure size 432x288 with 1 Axes>"
      ]
     },
     "metadata": {
      "needs_background": "light"
     },
     "output_type": "display_data"
    }
   ],
   "source": [
    "plt.scatter(df['Day'], df['Likes Score'])"
   ]
  },
  {
   "cell_type": "code",
   "execution_count": 9,
   "id": "d2026303",
   "metadata": {
    "execution": {
     "iopub.execute_input": "2021-10-15T17:54:50.757438Z",
     "iopub.status.busy": "2021-10-15T17:54:50.756576Z",
     "iopub.status.idle": "2021-10-15T17:54:50.759876Z",
     "shell.execute_reply": "2021-10-15T17:54:50.760545Z",
     "shell.execute_reply.started": "2021-10-15T17:52:43.270923Z"
    },
    "papermill": {
     "duration": 0.028538,
     "end_time": "2021-10-15T17:54:50.760748",
     "exception": false,
     "start_time": "2021-10-15T17:54:50.732210",
     "status": "completed"
    },
    "tags": []
   },
   "outputs": [
    {
     "data": {
      "text/plain": [
       "Index(['User uuid', 'Likes', 'Days passed from post', 'Likes Score', 'Type',\n",
       "       'Numer of Tags', 'Numer of Comments', 'Date Posted', 'Year', 'Month',\n",
       "       'Day', 'Hour', 'Minute'],\n",
       "      dtype='object')"
      ]
     },
     "execution_count": 9,
     "metadata": {},
     "output_type": "execute_result"
    }
   ],
   "source": [
    "df.columns"
   ]
  },
  {
   "cell_type": "code",
   "execution_count": 10,
   "id": "dd75ddc4",
   "metadata": {
    "execution": {
     "iopub.execute_input": "2021-10-15T17:54:50.817758Z",
     "iopub.status.busy": "2021-10-15T17:54:50.817144Z",
     "iopub.status.idle": "2021-10-15T17:54:51.626507Z",
     "shell.execute_reply": "2021-10-15T17:54:51.625993Z",
     "shell.execute_reply.started": "2021-10-15T17:52:43.279636Z"
    },
    "papermill": {
     "duration": 0.845564,
     "end_time": "2021-10-15T17:54:51.626650",
     "exception": false,
     "start_time": "2021-10-15T17:54:50.781086",
     "status": "completed"
    },
    "tags": []
   },
   "outputs": [
    {
     "data": {
      "text/plain": [
       "<matplotlib.collections.PathCollection at 0x7fddbc304e10>"
      ]
     },
     "execution_count": 10,
     "metadata": {},
     "output_type": "execute_result"
    },
    {
     "data": {
      "image/png": "[encoded data removed]",
      "text/plain": [
       "<Figure size 432x288 with 1 Axes>"
      ]
     },
     "metadata": {
      "needs_background": "light"
     },
     "output_type": "display_data"
    }
   ],
   "source": [
    "plt.scatter(df['Year'],df['Likes'])"
   ]
  },
  {
   "cell_type": "code",
   "execution_count": 11,
   "id": "7a780706",
   "metadata": {
    "execution": {
     "iopub.execute_input": "2021-10-15T17:54:51.700567Z",
     "iopub.status.busy": "2021-10-15T17:54:51.694873Z",
     "iopub.status.idle": "2021-10-15T17:54:52.507295Z",
     "shell.execute_reply": "2021-10-15T17:54:52.506807Z",
     "shell.execute_reply.started": "2021-10-15T17:52:44.090859Z"
    },
    "papermill": {
     "duration": 0.852669,
     "end_time": "2021-10-15T17:54:52.507458",
     "exception": false,
     "start_time": "2021-10-15T17:54:51.654789",
     "status": "completed"
    },
    "tags": []
   },
   "outputs": [
    {
     "data": {
      "text/plain": [
       "<matplotlib.collections.PathCollection at 0x7fddbc336710>"
      ]
     },
     "execution_count": 11,
     "metadata": {},
     "output_type": "execute_result"
    },
    {
     "data": {
      "image/png": "[encoded data removed]",
      "text/plain": [
       "<Figure size 432x288 with 1 Axes>"
      ]
     },
     "metadata": {
      "needs_background": "light"
     },
     "output_type": "display_data"
    }
   ],
   "source": [
    "plt.scatter(df['Month'],df['Likes'])"
   ]
  },
  {
   "cell_type": "code",
   "execution_count": 12,
   "id": "cb0798fd",
   "metadata": {
    "execution": {
     "iopub.execute_input": "2021-10-15T17:54:52.575443Z",
     "iopub.status.busy": "2021-10-15T17:54:52.571549Z",
     "iopub.status.idle": "2021-10-15T17:54:53.385223Z",
     "shell.execute_reply": "2021-10-15T17:54:53.384544Z",
     "shell.execute_reply.started": "2021-10-15T17:52:44.891019Z"
    },
    "papermill": {
     "duration": 0.856853,
     "end_time": "2021-10-15T17:54:53.385380",
     "exception": false,
     "start_time": "2021-10-15T17:54:52.528527",
     "status": "completed"
    },
    "tags": []
   },
   "outputs": [
    {
     "data": {
      "text/plain": [
       "<matplotlib.collections.PathCollection at 0x7fddbc2d0d50>"
      ]
     },
     "execution_count": 12,
     "metadata": {},
     "output_type": "execute_result"
    },
    {
     "data": {
      "image/png": "[encoded data removed]",
      "text/plain": [
       "<Figure size 432x288 with 1 Axes>"
      ]
     },
     "metadata": {
      "needs_background": "light"
     },
     "output_type": "display_data"
    }
   ],
   "source": [
    "plt.scatter(df['Day'],df['Likes'])"
   ]
  },
  {
   "cell_type": "code",
   "execution_count": 13,
   "id": "505e123a",
   "metadata": {
    "execution": {
     "iopub.execute_input": "2021-10-15T17:54:53.447417Z",
     "iopub.status.busy": "2021-10-15T17:54:53.434114Z",
     "iopub.status.idle": "2021-10-15T17:54:54.248872Z",
     "shell.execute_reply": "2021-10-15T17:54:54.248366Z",
     "shell.execute_reply.started": "2021-10-15T17:52:45.756856Z"
    },
    "papermill": {
     "duration": 0.841354,
     "end_time": "2021-10-15T17:54:54.249009",
     "exception": false,
     "start_time": "2021-10-15T17:54:53.407655",
     "status": "completed"
    },
    "tags": []
   },
   "outputs": [
    {
     "data": {
      "text/plain": [
       "<matplotlib.collections.PathCollection at 0x7fddb7d45250>"
      ]
     },
     "execution_count": 13,
     "metadata": {},
     "output_type": "execute_result"
    },
    {
     "data": {
      "image/png": "[encoded data removed]",
      "text/plain": [
       "<Figure size 432x288 with 1 Axes>"
      ]
     },
     "metadata": {
      "needs_background": "light"
     },
     "output_type": "display_data"
    }
   ],
   "source": [
    "plt.scatter(df['Year'],df['Numer of Comments'])"
   ]
  },
  {
   "cell_type": "code",
   "execution_count": 14,
   "id": "dc5969b6",
   "metadata": {
    "execution": {
     "iopub.execute_input": "2021-10-15T17:54:54.320831Z",
     "iopub.status.busy": "2021-10-15T17:54:54.320174Z",
     "iopub.status.idle": "2021-10-15T17:54:55.147736Z",
     "shell.execute_reply": "2021-10-15T17:54:55.146831Z",
     "shell.execute_reply.started": "2021-10-15T17:52:46.590540Z"
    },
    "papermill": {
     "duration": 0.875921,
     "end_time": "2021-10-15T17:54:55.147924",
     "exception": false,
     "start_time": "2021-10-15T17:54:54.272003",
     "status": "completed"
    },
    "tags": []
   },
   "outputs": [
    {
     "data": {
      "text/plain": [
       "<matplotlib.collections.PathCollection at 0x7fddb7c55310>"
      ]
     },
     "execution_count": 14,
     "metadata": {},
     "output_type": "execute_result"
    },
    {
     "data": {
      "image/png": "[encoded data removed]",
      "text/plain": [
       "<Figure size 432x288 with 1 Axes>"
      ]
     },
     "metadata": {
      "needs_background": "light"
     },
     "output_type": "display_data"
    }
   ],
   "source": [
    "plt.scatter(df['Month'],df['Numer of Comments'])"
   ]
  },
  {
   "cell_type": "code",
   "execution_count": 15,
   "id": "b405bad0",
   "metadata": {
    "execution": {
     "iopub.execute_input": "2021-10-15T17:54:55.228684Z",
     "iopub.status.busy": "2021-10-15T17:54:55.224536Z",
     "iopub.status.idle": "2021-10-15T17:54:56.033043Z",
     "shell.execute_reply": "2021-10-15T17:54:56.032573Z",
     "shell.execute_reply.started": "2021-10-15T17:52:47.440701Z"
    },
    "papermill": {
     "duration": 0.854214,
     "end_time": "2021-10-15T17:54:56.033193",
     "exception": false,
     "start_time": "2021-10-15T17:54:55.178979",
     "status": "completed"
    },
    "tags": []
   },
   "outputs": [
    {
     "data": {
      "text/plain": [
       "<matplotlib.collections.PathCollection at 0x7fddb7be5610>"
      ]
     },
     "execution_count": 15,
     "metadata": {},
     "output_type": "execute_result"
    },
    {
     "data": {
      "image/png": "[encoded data removed]",
      "text/plain": [
       "<Figure size 432x288 with 1 Axes>"
      ]
     },
     "metadata": {
      "needs_background": "light"
     },
     "output_type": "display_data"
    }
   ],
   "source": [
    "plt.scatter(df['Day'],df['Numer of Comments'])"
   ]
  },
  {
   "cell_type": "code",
   "execution_count": 16,
   "id": "4ec75aa9",
   "metadata": {
    "execution": {
     "iopub.execute_input": "2021-10-15T17:54:56.106287Z",
     "iopub.status.busy": "2021-10-15T17:54:56.103701Z",
     "iopub.status.idle": "2021-10-15T17:54:56.922608Z",
     "shell.execute_reply": "2021-10-15T17:54:56.921973Z",
     "shell.execute_reply.started": "2021-10-15T17:52:48.276735Z"
    },
    "papermill": {
     "duration": 0.863878,
     "end_time": "2021-10-15T17:54:56.922755",
     "exception": false,
     "start_time": "2021-10-15T17:54:56.058877",
     "status": "completed"
    },
    "tags": []
   },
   "outputs": [
    {
     "data": {
      "text/plain": [
       "<matplotlib.collections.PathCollection at 0x7fddb7b6b350>"
      ]
     },
     "execution_count": 16,
     "metadata": {},
     "output_type": "execute_result"
    },
    {
     "data": {
      "image/png": "[encoded data removed]",
      "text/plain": [
       "<Figure size 432x288 with 1 Axes>"
      ]
     },
     "metadata": {
      "needs_background": "light"
     },
     "output_type": "display_data"
    }
   ],
   "source": [
    "plt.scatter(df['Likes'],df['Numer of Comments'])"
   ]
  },
  {
   "cell_type": "code",
   "execution_count": 17,
   "id": "f71d847f",
   "metadata": {
    "execution": {
     "iopub.execute_input": "2021-10-15T17:54:57.003724Z",
     "iopub.status.busy": "2021-10-15T17:54:56.981427Z",
     "iopub.status.idle": "2021-10-15T17:54:57.800825Z",
     "shell.execute_reply": "2021-10-15T17:54:57.800263Z",
     "shell.execute_reply.started": "2021-10-15T17:52:49.292354Z"
    },
    "papermill": {
     "duration": 0.851602,
     "end_time": "2021-10-15T17:54:57.800963",
     "exception": false,
     "start_time": "2021-10-15T17:54:56.949361",
     "status": "completed"
    },
    "tags": []
   },
   "outputs": [
    {
     "data": {
      "text/plain": [
       "<matplotlib.collections.PathCollection at 0x7fddb7b60390>"
      ]
     },
     "execution_count": 17,
     "metadata": {},
     "output_type": "execute_result"
    },
    {
     "data": {
      "image/png": "[encoded data removed]",
      "text/plain": [
       "<Figure size 432x288 with 1 Axes>"
      ]
     },
     "metadata": {
      "needs_background": "light"
     },
     "output_type": "display_data"
    }
   ],
   "source": [
    "plt.scatter(df['Year'],df['Numer of Tags'])"
   ]
  },
  {
   "cell_type": "code",
   "execution_count": 18,
   "id": "89342241",
   "metadata": {
    "execution": {
     "iopub.execute_input": "2021-10-15T17:54:57.869785Z",
     "iopub.status.busy": "2021-10-15T17:54:57.868802Z",
     "iopub.status.idle": "2021-10-15T17:54:58.672897Z",
     "shell.execute_reply": "2021-10-15T17:54:58.672337Z",
     "shell.execute_reply.started": "2021-10-15T17:52:50.124282Z"
    },
    "papermill": {
     "duration": 0.844875,
     "end_time": "2021-10-15T17:54:58.673048",
     "exception": false,
     "start_time": "2021-10-15T17:54:57.828173",
     "status": "completed"
    },
    "tags": []
   },
   "outputs": [
    {
     "data": {
      "text/plain": [
       "<matplotlib.collections.PathCollection at 0x7fddb7a7b210>"
      ]
     },
     "execution_count": 18,
     "metadata": {},
     "output_type": "execute_result"
    },
    {
     "data": {
      "image/png": "[encoded data removed]",
      "text/plain": [
       "<Figure size 432x288 with 1 Axes>"
      ]
     },
     "metadata": {
      "needs_background": "light"
     },
     "output_type": "display_data"
    }
   ],
   "source": [
    "plt.scatter(df['Month'],df['Numer of Tags'])"
   ]
  },
  {
   "cell_type": "code",
   "execution_count": 19,
   "id": "5033f9ea",
   "metadata": {
    "execution": {
     "iopub.execute_input": "2021-10-15T17:54:58.732268Z",
     "iopub.status.busy": "2021-10-15T17:54:58.731655Z",
     "iopub.status.idle": "2021-10-15T17:54:59.854995Z",
     "shell.execute_reply": "2021-10-15T17:54:59.855707Z",
     "shell.execute_reply.started": "2021-10-15T17:52:50.958830Z"
    },
    "papermill": {
     "duration": 1.155348,
     "end_time": "2021-10-15T17:54:59.855885",
     "exception": false,
     "start_time": "2021-10-15T17:54:58.700537",
     "status": "completed"
    },
    "tags": []
   },
   "outputs": [
    {
     "data": {
      "text/plain": [
       "<AxesSubplot:xlabel='User uuid', ylabel='Density'>"
      ]
     },
     "execution_count": 19,
     "metadata": {},
     "output_type": "execute_result"
    },
    {
     "data": {
      "image/png": "[encoded data removed]",
      "text/plain": [
       "<Figure size 432x288 with 1 Axes>"
      ]
     },
     "metadata": {
      "needs_background": "light"
     },
     "output_type": "display_data"
    }
   ],
   "source": [
    "sns.kdeplot(df['User uuid'])"
   ]
  },
  {
   "cell_type": "code",
   "execution_count": 20,
   "id": "94ea28ee",
   "metadata": {
    "execution": {
     "iopub.execute_input": "2021-10-15T17:54:59.951923Z",
     "iopub.status.busy": "2021-10-15T17:54:59.951200Z",
     "iopub.status.idle": "2021-10-15T17:55:00.637323Z",
     "shell.execute_reply": "2021-10-15T17:55:00.636812Z",
     "shell.execute_reply.started": "2021-10-15T17:52:52.123370Z"
    },
    "papermill": {
     "duration": 0.741206,
     "end_time": "2021-10-15T17:55:00.637456",
     "exception": false,
     "start_time": "2021-10-15T17:54:59.896250",
     "status": "completed"
    },
    "tags": []
   },
   "outputs": [
    {
     "data": {
      "image/png": "[encoded data removed]",
      "text/plain": [
       "<Figure size 1440x1440 with 3 Axes>"
      ]
     },
     "metadata": {
      "needs_background": "light"
     },
     "output_type": "display_data"
    }
   ],
   "source": [
    "fig, ax = plt.subplots(3, 1, figsize=(20, 20))\n",
    "year=df.Year.unique()\n",
    "sns.barplot(x=year, y=df.groupby('Year')['Likes'].mean(), ax=ax[0], color='black')\n",
    "ax[0].title.set_text('Sum likes by year')\n",
    "sns.barplot(x=year, y=df.groupby('Year')['Numer of Comments'].mean(), ax=ax[1], color='blue')\n",
    "ax[0].title.set_text('Sum Numer of comments by year')\n",
    "sns.barplot(x=year, y=df.groupby('Year')['Numer of Tags'].mean(), ax=ax[2], color='yellow')\n",
    "ax[0].title.set_text('Sum Numer of Tags by year')\n"
   ]
  },
  {
   "cell_type": "code",
   "execution_count": 21,
   "id": "02ba0def",
   "metadata": {
    "execution": {
     "iopub.execute_input": "2021-10-15T17:55:00.757025Z",
     "iopub.status.busy": "2021-10-15T17:55:00.755904Z",
     "iopub.status.idle": "2021-10-15T17:55:01.496266Z",
     "shell.execute_reply": "2021-10-15T17:55:01.495521Z",
     "shell.execute_reply.started": "2021-10-15T17:52:52.971502Z"
    },
    "papermill": {
     "duration": 0.828913,
     "end_time": "2021-10-15T17:55:01.496443",
     "exception": false,
     "start_time": "2021-10-15T17:55:00.667530",
     "status": "completed"
    },
    "tags": []
   },
   "outputs": [
    {
     "data": {
      "image/png": "[encoded data removed]",
      "text/plain": [
       "<Figure size 1440x1440 with 3 Axes>"
      ]
     },
     "metadata": {
      "needs_background": "light"
     },
     "output_type": "display_data"
    }
   ],
   "source": [
    "fig, ax = plt.subplots(3, 1, figsize=(20, 20))\n",
    "month=df.Month.unique()\n",
    "sns.barplot(x=month, y=df.groupby('Month')['Likes'].mean(), ax=ax[0], color='black')\n",
    "ax[0].title.set_text('Sum likes by month')\n",
    "sns.barplot(x=month, y=df.groupby('Month')['Numer of Comments'].mean(), ax=ax[1], color='blue')\n",
    "ax[0].title.set_text('Sum Numer of comments by Month')\n",
    "sns.barplot(x=month, y=df.groupby('Month')['Numer of Tags'].mean(), ax=ax[2], color='yellow')\n",
    "ax[0].title.set_text('Sum Numer of Tags by month')\n"
   ]
  },
  {
   "cell_type": "code",
   "execution_count": 22,
   "id": "34e056a5",
   "metadata": {
    "execution": {
     "iopub.execute_input": "2021-10-15T17:55:01.582433Z",
     "iopub.status.busy": "2021-10-15T17:55:01.570981Z",
     "iopub.status.idle": "2021-10-15T17:55:02.778544Z",
     "shell.execute_reply": "2021-10-15T17:55:02.777959Z",
     "shell.execute_reply.started": "2021-10-15T17:52:53.732309Z"
    },
    "papermill": {
     "duration": 1.249618,
     "end_time": "2021-10-15T17:55:02.778715",
     "exception": false,
     "start_time": "2021-10-15T17:55:01.529097",
     "status": "completed"
    },
    "tags": []
   },
   "outputs": [
    {
     "data": {
      "image/png": "[encoded data removed]",
      "text/plain": [
       "<Figure size 1440x1440 with 3 Axes>"
      ]
     },
     "metadata": {
      "needs_background": "light"
     },
     "output_type": "display_data"
    }
   ],
   "source": [
    "fig, ax = plt.subplots(3, 1, figsize=(20, 20))\n",
    "day=df.Day.unique()\n",
    "sns.barplot(x=day, y=df.groupby('Day')['Likes'].mean(), ax=ax[0], color='black')\n",
    "ax[0].title.set_text('Sum likes by day')\n",
    "sns.barplot(x=day, y=df.groupby('Day')['Numer of Comments'].mean(), ax=ax[1], color='blue')\n",
    "ax[0].title.set_text('Sum Numer of comments by day')\n",
    "sns.barplot(x=day, y=df.groupby('Day')['Numer of Tags'].mean(), ax=ax[2], color='yellow')\n",
    "ax[0].title.set_text('Sum Numer of Tags by day')\n"
   ]
  },
  {
   "cell_type": "code",
   "execution_count": 23,
   "id": "032db9f8",
   "metadata": {
    "execution": {
     "iopub.execute_input": "2021-10-15T17:55:02.867440Z",
     "iopub.status.busy": "2021-10-15T17:55:02.866726Z",
     "iopub.status.idle": "2021-10-15T17:56:02.094614Z",
     "shell.execute_reply": "2021-10-15T17:56:02.095064Z",
     "shell.execute_reply.started": "2021-10-15T17:52:55.137201Z"
    },
    "papermill": {
     "duration": 59.284656,
     "end_time": "2021-10-15T17:56:02.095255",
     "exception": false,
     "start_time": "2021-10-15T17:55:02.810599",
     "status": "completed"
    },
    "tags": []
   },
   "outputs": [
    {
     "data": {
      "text/plain": [
       "<AxesSubplot:>"
      ]
     },
     "execution_count": 23,
     "metadata": {},
     "output_type": "execute_result"
    },
    {
     "data": {
      "image/png": "[encoded data removed]",
      "text/plain": [
       "<Figure size 432x288 with 1 Axes>"
      ]
     },
     "metadata": {
      "needs_background": "light"
     },
     "output_type": "display_data"
    }
   ],
   "source": [
    "sns.lineplot(data=df)"
   ]
  },
  {
   "cell_type": "code",
   "execution_count": null,
   "id": "8e4b1558",
   "metadata": {
    "papermill": {
     "duration": 0.031865,
     "end_time": "2021-10-15T17:56:02.159755",
     "exception": false,
     "start_time": "2021-10-15T17:56:02.127890",
     "status": "completed"
    },
    "tags": []
   },
   "outputs": [],
   "source": [
    "\n"
   ]
  }
 ],
 "metadata": {
  "kernelspec": {
   "display_name": "Python 3",
   "language": "python",
   "name": "python3"
  },
  "language_info": {
   "codemirror_mode": {
    "name": "ipython",
    "version": 3
   },
   "file_extension": ".py",
   "mimetype": "text/x-python",
   "name": "python",
   "nbconvert_exporter": "python",
   "pygments_lexer": "ipython3",
   "version": "3.7.10"
  },
  "papermill": {
   "default_parameters": {},
   "duration": 84.534446,
   "end_time": "2021-10-15T17:56:02.902815",
   "environment_variables": {},
   "exception": null,
   "input_path": "__notebook__.ipynb",
   "output_path": "__notebook__.ipynb",
   "parameters": {},
   "start_time": "2021-10-15T17:54:38.368369",
   "version": "2.3.3"
  }
 },
 "nbformat": 4,
 "nbformat_minor": 5
}
